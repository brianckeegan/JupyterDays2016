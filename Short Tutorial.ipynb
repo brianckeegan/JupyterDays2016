{
 "cells": [
  {
   "cell_type": "markdown",
   "metadata": {},
   "source": [
    "# Wikipedia Network Analysis - Short Tutorial"
   ]
  },
  {
   "cell_type": "markdown",
   "metadata": {},
   "source": [
    "Brian Keegan, Ph.D. - March 18, 2016 -- Jupyter Days 2016, Boston, MA, USA\n",
    "\n",
    "Released under a [CC-BY-SA 3.0 License](https://creativecommons.org/licenses/by-sa/3.0/).\n",
    "\n",
    "[Web](http://www.brianckeegan.com); [@bkeegan](https://twitter.com/bkeegan); [GitHub](github.com/brianckeegan/)"
   ]
  },
  {
   "cell_type": "markdown",
   "metadata": {},
   "source": [
    "The purpose of this tutorial is to introduce you to the basics of:\n",
    "\n",
    "1. Extracting data from an public API\n",
    "2. Converting these data into a tabular (spreadsheet-like) format\n",
    "3. Creating a complex network out of these data\n",
    "4. Analyzing the properties of the network\n",
    "\n",
    "Obvious candidates for analyzing networks are social media platforms like Facebook or Twitter, but these require some distractions like registering for an API key. Instead, we are going to focus on extracting data from Wikipedia's free, public, and very powerful API. In particular, we are going to examine at least three kinds of networks that we can extract from Wikipedia data.\n",
    "\n",
    "1. Hyperlink networks: how are articles linked to other articles?\n",
    "2. Coauthorship networks: who edits which articles?\n",
    "3. Contribution transition networks: who modifies whose revisions?\n",
    "\n",
    "This version of the tutorial differs from [an earlier version](https://github.com/brianckeegan/Wikipedia-Network-Analysis/blob/master/Wikipedia%20Network%20Analysis.ipynb) as it incorporates changes made to the functionality of several of the libraries. It also focuses less on changes over time and more about extracting different kinds of networks."
   ]
  },
  {
   "cell_type": "markdown",
   "metadata": {},
   "source": [
    "# Import libraries"
   ]
  },
  {
   "cell_type": "markdown",
   "metadata": {},
   "source": [
    "You will need the [`python-wikitools`](https://github.com/alexz-enwp/wikitools) library before we can proceed. This library is a wrapper that lets us talk to the Wikipedia API without having to write a bunch of code to handle the requests and such.\n",
    "\n",
    "If you using a package manager like Anaconda or Enthought, you should be able to install from the command line by typing:"
   ]
  },
  {
   "cell_type": "raw",
   "metadata": {},
   "source": [
    "pip install wikitools"
   ]
  },
  {
   "cell_type": "markdown",
   "metadata": {},
   "source": [
    "Import the libraries we'll be using throughout."
   ]
  },
  {
   "cell_type": "code",
   "execution_count": 1,
   "metadata": {
    "collapsed": false
   },
   "outputs": [
    {
     "name": "stderr",
     "output_type": "stream",
     "text": [
      "C:\\Users\\bkeegan\\AppData\\Local\\Continuum\\Anaconda\\lib\\site-packages\\matplotlib\\__init__.py:872: UserWarning: axes.color_cycle is deprecated and replaced with axes.prop_cycle; please use the latter.\n",
      "  warnings.warn(self.msg_depr % (key, alt_key))\n"
     ]
    }
   ],
   "source": [
    "# Standard packages for data visualization\n",
    "%matplotlib inline\n",
    "import matplotlib.pyplot as plt\n",
    "import seaborn as sb\n",
    "\n",
    "# numpy lets us handle numeric arrays efficiently\n",
    "import numpy as np\n",
    "\n",
    "# pandas handles tabular data\n",
    "import pandas as pd\n",
    "\n",
    "# These libraries let us get data from the web\n",
    "import urllib2\n",
    "\n",
    "# networkx handles network data\n",
    "import networkx as nx\n",
    "\n",
    "# To run queries against MediaWiki APIs\n",
    "import wikitools as wt\n",
    "\n",
    "# json handles reading and writing JSON data\n",
    "import json\n",
    "\n",
    "# To visualize webpages within this webpage\n",
    "from IPython.display import HTML\n",
    "\n",
    "# To parse links out of HTML markup in Wikipedia pages\n",
    "from bs4 import BeautifulSoup\n",
    "\n",
    "# Some other helper functions\n",
    "from collections import Counter\n",
    "from operator import itemgetter"
   ]
  },
  {
   "cell_type": "markdown",
   "metadata": {},
   "source": [
    "# Write a basic query against the Wikipedia API"
   ]
  },
  {
   "cell_type": "markdown",
   "metadata": {},
   "source": [
    "### A test query in the browser"
   ]
  },
  {
   "cell_type": "markdown",
   "metadata": {},
   "source": [
    "We are going to make a query using the `list=users` action. [This page](http://en.wikipedia.org/w/api.php) contains all the documentation for the different queries you can run from Wikipedia's MediaWiki API. For our first test query, we'll want to get the information about a single user. Search for \"list=users\". You can also find similar information about this specific query action [here](https://www.mediawiki.org/wiki/API:Users) in the general MediaWiki documentation.\n",
    "\n",
    "We can actually write a test query in the URL which will return results if the parameters are all valid. Use the example given on the `api.php` page of documentation:\n",
    "\n",
    "http://en.wikipedia.org/w/api.php?action=query&list=users&ususers=Madcoverboy|Jimbo_Wales&usprop=blockinfo|groups|editcount|registration|gender\n",
    "\n",
    "There are four parameters in this API call, separated by `&` signs:\n",
    "\n",
    "* **`action`** - We pass a `query` option here to differentiate it from other actions we can run on the API like `parse`. But `action=query` will be what we use much of the time.\n",
    "* **`list`** - This is one of several parameters we can use to make a query; search for \"action=query\" for others besides `list`. We pass a `users` option to `list` because we want to generate information about users. This lets us run the sub-options detailed in the documentation below.\n",
    "* **`ususers`** - Here we list the names of Wikipedia users we want to get information about. We can pass more than one name by adding a pipe \"`|`\" between names. The documentation says we can only pass up to 50 names per request. Here we pass two names `Madcoverboy` for yours truly and `Jimbo_Wales` for the founder of Wikipedia.\n",
    "* **`usprop`** - Here we pass a list of options detailed under the `list=users` about information we can obtain about any user. Again we use pipes to connect multiple options together. We are going to get information about whether a user is currently blocked (`blockinfo`), what powers the user has (`groups`), their total number of edits (`editcount`), the date and time they registered their account (`registration`), and their self-reported gender (`gender`).\n",
    "* **format** - Here we list how we want the data to be formatted when it's returned to us. If you're a masochist and like parsing XML, that's the default. But we'll ask the API to give us JSON back since that's much more humane. The `format=jsonfm` I use in the code block immediately below is only to ask the API to give us prettily-formatted JSON rather than a concise but hard to read string. Change it to `format=json` to see what happens.\n",
    "\n",
    "In summary, this API request is going to perform a query action that expects us to pass a list of user names and will return information about the users. We have given the query the names of the users we want information about as well as the specific types of information about each of these users.\n",
    "\n",
    "The codeblock below shows what clicking the URL should return."
   ]
  },
  {
   "cell_type": "code",
   "execution_count": 2,
   "metadata": {
    "collapsed": false
   },
   "outputs": [
    {
     "data": {
      "text/html": [
       "<!DOCTYPE html>\n",
       "<html lang=\"en\" dir=\"ltr\" class=\"client-nojs\">\n",
       "<head>\n",
       "<meta charset=\"UTF-8\" />\n",
       "<title>MediaWiki API result - Wikipedia, the free encyclopedia</title>\n",
       "<script>document.documentElement.className = document.documentElement.className.replace( /(^|\\s)client-nojs(\\s|$)/, \"$1client-js$2\" );</script>\n",
       "<script>(window.RLQ = window.RLQ || []).push(function () {\n",
       "mw.config.set({\"wgCanonicalNamespace\":\"Special\",\"wgCanonicalSpecialPageName\":\"ApiHelp\",\"wgNamespaceNumber\":-1,\"wgPageName\":\"Special:ApiHelp\",\"wgTitle\":\"ApiHelp\",\"wgCurRevisionId\":0,\"wgRevisionId\":0,\"wgArticleId\":0,\"wgIsArticle\":false,\"wgIsRedirect\":false,\"wgAction\":\"view\",\"wgUserName\":null,\"wgUserGroups\":[\"*\"],\"wgCategories\":[],\"wgBreakFrames\":false,\"wgPageContentLanguage\":\"en\",\"wgPageContentModel\":\"wikitext\",\"wgSeparatorTransformTable\":[\"\",\"\"],\"wgDigitTransformTable\":[\"\",\"\"],\"wgDefaultDateFormat\":\"dmy\",\"wgMonthNames\":[\"\",\"January\",\"February\",\"March\",\"April\",\"May\",\"June\",\"July\",\"August\",\"September\",\"October\",\"November\",\"December\"],\"wgMonthNamesShort\":[\"\",\"Jan\",\"Feb\",\"Mar\",\"Apr\",\"May\",\"Jun\",\"Jul\",\"Aug\",\"Sep\",\"Oct\",\"Nov\",\"Dec\"],\"wgRelevantPageName\":\"Special:ApiHelp\",\"wgRelevantArticleId\":0,\"wgIsProbablyEditable\":false,\"wgWikiEditorEnabledModules\":{\"toolbar\":true,\"dialogs\":true,\"preview\":false,\"publish\":false},\"wgBetaFeaturesFeatures\":[],\"wgMediaViewerOnClick\":true,\"wgMediaViewerEnabledByDefault\":true,\"wgVisualEditor\":{\"pageLanguageCode\":\"en\",\"pageLanguageDir\":\"ltr\",\"usePageImages\":true,\"usePageDescriptions\":true},\"wgPreferredVariant\":\"en\",\"wgRelatedArticles\":null,\"wgRelatedArticlesUseCirrusSearch\":true,\"wgRelatedArticlesOnlyUseCirrusSearch\":false,\"wgULSAcceptLanguageList\":[],\"wgULSCurrentAutonym\":\"English\",\"wgFlaggedRevsParams\":{\"tags\":{\"status\":{\"levels\":1,\"quality\":2,\"pristine\":3}}},\"wgStableRevisionId\":null,\"wgCategoryTreePageCategoryOptions\":\"{\\\"mode\\\":0,\\\"hideprefix\\\":20,\\\"showcount\\\":true,\\\"namespaces\\\":false}\",\"wgNoticeProject\":\"wikipedia\",\"wgCentralNoticeCategoriesUsingLegacy\":[\"Fundraising\",\"fundraising\"],\"wgCentralAuthMobileDomain\":false,\"wgVisualEditorToolbarScrollOffset\":0}); /* @nomin */mw.loader.implement(\"user.options\",function($,jQuery){mw.user.options.set({\"variant\":\"en\"});});mw.loader.implement(\"user.tokens\",function ( $, jQuery ) {\n",
       "mw.user.tokens.set({\"editToken\":\"+\\\\\",\"patrolToken\":\"+\\\\\",\"watchToken\":\"+\\\\\",\"csrfToken\":\"+\\\\\"}); /* @nomin */ ;\n",
       "\n",
       "});mw.loader.load([\"mediawiki.page.startup\",\"mediawiki.legacy.wikibits\",\"ext.centralauth.centralautologin\",\"ext.visualEditor.desktopArticleTarget.init\",\"ext.uls.init\",\"ext.uls.interface\",\"mw.MediaWikiPlayer.loader\",\"mw.PopUpMediaTransform\",\"ext.centralNotice.bannerController\"]);\n",
       "} );</script>\n",
       "<link rel=\"stylesheet\" href=\"/w/load.php?debug=false&amp;lang=en&amp;modules=ext.gadget.DRN-wizard%2CReferenceTooltips%2Ccharinsert%2Cfeatured-articles-links%2CrefToolbar%2Cswitcher%2Cteahouse%7Cext.pygments%2CwikimediaBadges%7Cext.tmh.thumbnail.styles%7Cext.uls.nojs%7Cext.visualEditor.desktopArticleTarget.noscript%7Cmediawiki.apipretty%2CsectionAnchor%7Cmediawiki.legacy.commonPrint%2Cshared%7Cmediawiki.skinning.interface&amp;only=styles&amp;skin=apioutput\" />\n",
       "<meta name=\"ResourceLoaderDynamicStyles\" content=\"\" />\n",
       "<link rel=\"stylesheet\" href=\"/w/load.php?debug=false&amp;lang=en&amp;modules=site&amp;only=styles&amp;skin=apioutput\" />\n",
       "<script async=\"\" src=\"/w/load.php?debug=false&amp;lang=en&amp;modules=startup&amp;only=scripts&amp;skin=apioutput\"></script>\n",
       "<meta name=\"generator\" content=\"MediaWiki 1.27.0-wmf.17\" />\n",
       "<meta name=\"referrer\" content=\"origin-when-cross-origin\" />\n",
       "<link rel=\"apple-touch-icon\" href=\"/static/apple-touch/wikipedia.png\" />\n",
       "<link rel=\"shortcut icon\" href=\"/static/favicon/wikipedia.ico\" />\n",
       "<link rel=\"search\" type=\"application/opensearchdescription+xml\" href=\"/w/opensearch_desc.php\" title=\"Wikipedia (en)\" />\n",
       "<link rel=\"EditURI\" type=\"application/rsd+xml\" href=\"//en.wikipedia.org/w/api.php?action=rsd\" />\n",
       "<link rel=\"copyright\" href=\"//creativecommons.org/licenses/by-sa/3.0/\" />\n",
       "<link rel=\"alternate\" type=\"application/atom+xml\" title=\"Wikipedia Atom feed\" href=\"/w/index.php?title=Special:RecentChanges&amp;feed=atom\" />\n",
       "<link rel=\"canonical\" href=\"https://en.wikipedia.org/wiki/Special:ApiHelp\" />\n",
       "<link rel=\"dns-prefetch\" href=\"//meta.wikimedia.org\" />\n",
       "</head>\n",
       "<body class=\"mediawiki ltr sitedir-ltr ns--1 ns-special mw-special-ApiHelp page-Special_ApiHelp skin-apioutput action-view\">\n",
       "\n",
       "\t\t<div class=\"mw-body\" role=\"main\">\n",
       "\t\t\t<h1 class=\"firstHeading\">MediaWiki API result</h1>\n",
       "\t\t\t<div class=\"mw-body-content\">\n",
       "\t\t\t\t<div id=\"mw-content-text\"><div class=\"api-pretty-header\"><p>This is the HTML representation of the JSON format. HTML is good for debugging, but is unsuitable for application use.\n",
       "</p><p>Specify the <var>format</var> parameter to change the output format. To see the non-HTML representation of the JSON format, set <kbd>format=json</kbd>.\n",
       "</p><p>See the <a href=\"//www.mediawiki.org/wiki/API\" class=\"extiw\" title=\"mw:API\">complete documentation</a>, or the <a href=\"/w/api.php?action=help&amp;modules=main\">API help</a> for more information.\n",
       "</p></div><div dir=\"ltr\"><div class=\"mw-highlight\"><pre><span class=\"p\">{</span>\n",
       "    <span class=\"s2\">&quot;batchcomplete&quot;</span><span class=\"o\">:</span> <span class=\"s2\">&quot;&quot;</span><span class=\"p\">,</span>\n",
       "    <span class=\"s2\">&quot;query&quot;</span><span class=\"o\">:</span> <span class=\"p\">{</span>\n",
       "        <span class=\"s2\">&quot;users&quot;</span><span class=\"o\">:</span> <span class=\"p\">[</span>\n",
       "            <span class=\"p\">{</span>\n",
       "                <span class=\"s2\">&quot;userid&quot;</span><span class=\"o\">:</span> <span class=\"mi\">304994</span><span class=\"p\">,</span>\n",
       "                <span class=\"s2\">&quot;name&quot;</span><span class=\"o\">:</span> <span class=\"s2\">&quot;Madcoverboy&quot;</span><span class=\"p\">,</span>\n",
       "                <span class=\"s2\">&quot;editcount&quot;</span><span class=\"o\">:</span> <span class=\"mi\">12361</span><span class=\"p\">,</span>\n",
       "                <span class=\"s2\">&quot;registration&quot;</span><span class=\"o\">:</span> <span class=\"s2\">&quot;2005-06-21T13:52:16Z&quot;</span><span class=\"p\">,</span>\n",
       "                <span class=\"s2\">&quot;groups&quot;</span><span class=\"o\">:</span> <span class=\"p\">[</span>\n",
       "                    <span class=\"s2\">&quot;reviewer&quot;</span><span class=\"p\">,</span>\n",
       "                    <span class=\"s2\">&quot;*&quot;</span><span class=\"p\">,</span>\n",
       "                    <span class=\"s2\">&quot;user&quot;</span><span class=\"p\">,</span>\n",
       "                    <span class=\"s2\">&quot;autoconfirmed&quot;</span>\n",
       "                <span class=\"p\">],</span>\n",
       "                <span class=\"s2\">&quot;gender&quot;</span><span class=\"o\">:</span> <span class=\"s2\">&quot;male&quot;</span>\n",
       "            <span class=\"p\">},</span>\n",
       "            <span class=\"p\">{</span>\n",
       "                <span class=\"s2\">&quot;userid&quot;</span><span class=\"o\">:</span> <span class=\"mi\">24</span><span class=\"p\">,</span>\n",
       "                <span class=\"s2\">&quot;name&quot;</span><span class=\"o\">:</span> <span class=\"s2\">&quot;Jimbo Wales&quot;</span><span class=\"p\">,</span>\n",
       "                <span class=\"s2\">&quot;editcount&quot;</span><span class=\"o\">:</span> <span class=\"mi\">12624</span><span class=\"p\">,</span>\n",
       "                <span class=\"s2\">&quot;registration&quot;</span><span class=\"o\">:</span> <span class=\"s2\">&quot;2001-03-27T20:47:31Z&quot;</span><span class=\"p\">,</span>\n",
       "                <span class=\"s2\">&quot;groups&quot;</span><span class=\"o\">:</span> <span class=\"p\">[</span>\n",
       "                    <span class=\"s2\">&quot;checkuser&quot;</span><span class=\"p\">,</span>\n",
       "                    <span class=\"s2\">&quot;founder&quot;</span><span class=\"p\">,</span>\n",
       "                    <span class=\"s2\">&quot;oversight&quot;</span><span class=\"p\">,</span>\n",
       "                    <span class=\"s2\">&quot;sysop&quot;</span><span class=\"p\">,</span>\n",
       "                    <span class=\"s2\">&quot;*&quot;</span><span class=\"p\">,</span>\n",
       "                    <span class=\"s2\">&quot;user&quot;</span><span class=\"p\">,</span>\n",
       "                    <span class=\"s2\">&quot;autoconfirmed&quot;</span>\n",
       "                <span class=\"p\">],</span>\n",
       "                <span class=\"s2\">&quot;gender&quot;</span><span class=\"o\">:</span> <span class=\"s2\">&quot;unknown&quot;</span>\n",
       "            <span class=\"p\">}</span>\n",
       "        <span class=\"p\">]</span>\n",
       "    <span class=\"p\">}</span>\n",
       "<span class=\"p\">}</span>\n",
       "</pre></div>\n",
       "</div><noscript><img src=\"//en.wikipedia.org/wiki/Special:CentralAutoLogin/start?type=1x1\" alt=\"\" title=\"\" width=\"1\" height=\"1\" style=\"border: none; position: absolute;\" /></noscript></div><div class=\"printfooter\">\n",
       "Retrieved from \"<a dir=\"ltr\" href=\"https://en.wikipedia.org/wiki/Special:ApiHelp\">https://en.wikipedia.org/wiki/Special:ApiHelp</a>\"</div>\n",
       "\t\t\t</div>\n",
       "\t\t</div>\n",
       "\n",
       "\t\t<script>(window.RLQ = window.RLQ || []).push(function () {\n",
       "mw.loader.state({\"ext.globalCssJs.site\":\"ready\",\"ext.globalCssJs.user\":\"ready\",\"user\":\"ready\",\"user.groups\":\"ready\"});mw.loader.load([\"site\",\"mediawiki.user\",\"mediawiki.hidpi\",\"mediawiki.page.ready\",\"mediawiki.searchSuggest\",\"ext.eventLogging.subscriber\",\"ext.gadget.teahouse\",\"ext.gadget.ReferenceTooltips\",\"ext.gadget.DRN-wizard\",\"ext.gadget.charinsert\",\"ext.gadget.refToolbar\",\"ext.gadget.switcher\",\"ext.gadget.featured-articles-links\",\"ext.visualEditor.targetLoader\",\"ext.wikimediaEvents\",\"ext.navigationTiming\",\"schema.UniversalLanguageSelector\",\"ext.uls.eventlogger\",\"ext.uls.interlanguage\"]);\n",
       "} );</script><script>(window.RLQ = window.RLQ || []).push(function () {\n",
       "mw.config.set({\"wgBackendResponseTime\":51,\"wgHostname\":\"mw1230\"}); /* @nomin */\n",
       "} );</script>\t\t</body></html>\n"
      ],
      "text/plain": [
       "<IPython.core.display.HTML object>"
      ]
     },
     "execution_count": 2,
     "metadata": {},
     "output_type": "execute_result"
    }
   ],
   "source": [
    "HTML('http://en.wikipedia.org/w/api.php?action=query&list=users&ususers=Madcoverboy|Jimbo_Wales&usprop=blockinfo|groups|editcount|registration|gender&format=jsonfm')"
   ]
  },
  {
   "cell_type": "markdown",
   "metadata": {},
   "source": [
    "There's a lot of padding and fields from the JSON markup this returns by default, but the data are all in there. My `userid` is \"304994\", my `username` is \"Madcoverboy\" (which we already knew), I have 12,348 edts, I registered my account on June 21, 2005 at 1:52:16pm GMT, I identify as male, and I'm a member of four \"groups\" corresponding to my editing privileges: `reviewer`, `*`, `user`, and `autoconfirmed`."
   ]
  },
  {
   "cell_type": "markdown",
   "metadata": {},
   "source": [
    "### Running the same query in Python"
   ]
  },
  {
   "cell_type": "markdown",
   "metadata": {},
   "source": [
    "Clicking on the link will run the query and return the results in your web browser. However, the point of using an API is not for you to make queries with a URL and then copy-paste the results into Python. We're going to run the query within Python (rather than the web browser) and return the data back to us in a format that we can continue to use for analysis.\n",
    "\n",
    "We can use some basic Python libraries to return the same data in a more usable way. Using a similar query as above (note that I changed to the `format=json`) we can define a request, make it and receive a response, read in the data it returned, convert it to something useful like a dictionary, and finally inspect it."
   ]
  },
  {
   "cell_type": "code",
   "execution_count": 3,
   "metadata": {
    "collapsed": false
   },
   "outputs": [
    {
     "data": {
      "text/plain": [
       "{u'batchcomplete': u'',\n",
       " u'query': {u'users': [{u'editcount': 12361,\n",
       "    u'gender': u'male',\n",
       "    u'groups': [u'reviewer', u'*', u'user', u'autoconfirmed'],\n",
       "    u'name': u'Madcoverboy',\n",
       "    u'registration': u'2005-06-21T13:52:16Z',\n",
       "    u'userid': 304994},\n",
       "   {u'editcount': 12624,\n",
       "    u'gender': u'unknown',\n",
       "    u'groups': [u'checkuser',\n",
       "     u'founder',\n",
       "     u'oversight',\n",
       "     u'sysop',\n",
       "     u'*',\n",
       "     u'user',\n",
       "     u'autoconfirmed'],\n",
       "    u'name': u'Jimbo Wales',\n",
       "    u'registration': u'2001-03-27T20:47:31Z',\n",
       "    u'userid': 24}]}}"
      ]
     },
     "execution_count": 3,
     "metadata": {},
     "output_type": "execute_result"
    }
   ],
   "source": [
    "# Write out the same request\n",
    "s = 'http://en.wikipedia.org/w/api.php?action=query&list=users&ususers=Madcoverboy|Jimbo_Wales&usprop=blockinfo|groups|editcount|registration|gender&format=json'\n",
    "\n",
    "# Define all the onerous calls and functions\n",
    "request = urllib2.Request(s)\n",
    "response = urllib2.urlopen(request)\n",
    "\n",
    "#  Get the data\n",
    "data_string = response.read()\n",
    "\n",
    "# Convert it to something more useful than a string\n",
    "data = json.loads(data_string)\n",
    "\n",
    "# Inspect it!\n",
    "data"
   ]
  },
  {
   "cell_type": "markdown",
   "metadata": {},
   "source": [
    "There's a lot that can go wrong with trying to write our own functions to talk to the API, so it's best to rely on existing libraries that accomplish the same thing rather than trying to reinvent the wheel. In this case, we'll use the wikitools library's `query` to handle all the requests and formatting.\n",
    "\n",
    "First we need to write a basic function [1] that will accept something that corresponds to the query we want to run, goes out and connects to the English Wikipedia's MediaWiki API \"spigot\", formats our query for this API to understand, runs the query until all the results come back, and then returns the results to us as some data object. The function below does all of those things, but it's best to just treat it as a black box for now that accepts queries and spits out the results from the English Wikipedia. \n",
    "\n",
    "(If you want to use another another MediaWiki API, replace the current URL following `site_url` with the corresponding API location. For example, [Memory Alpha](http://en.memory-alpha.org/)'s is http://en.memory-alpha.org/api.php)\n",
    "\n",
    "[1] We won't end up using the basic function later on since it behaves badly under some important conditions."
   ]
  },
  {
   "cell_type": "code",
   "execution_count": 4,
   "metadata": {
    "collapsed": false
   },
   "outputs": [],
   "source": [
    "def basic_wikipedia_query(query_params,site_url='http://en.wikipedia.org/w/api.php'):\n",
    "    # What site will we connect to? Defaults to English Wikipedia (above)\n",
    "    site = wt.wiki.Wiki(url=site_url) \n",
    "    \n",
    "    # Prepare the query request\n",
    "    request = wt.api.APIRequest(site, query_params) \n",
    "    \n",
    "    # Make the query\n",
    "    result = request.queryGen() \n",
    "    \n",
    "    # This is a bit of a hack that will break things in a bit\n",
    "    result_list = list(result)[0]\n",
    "    \n",
    "    # Return the results    \n",
    "    return result_list[query_params['action']] "
   ]
  },
  {
   "cell_type": "markdown",
   "metadata": {},
   "source": [
    "We can write the exact same query as we used above using a dictionary for all the same request parameters as key value pairs and save the dictionary as `user_query`. For example, where we used `action=query` in the URL above, we use `'action':'query'` as a key-value pair of strings (make sure to include the quotes marking these as strings, rather than variables!) in the query dictionary. Then we can pass this query dictionary to the `wikipedia_query` black box function defined above to get the exact same information out. We save the output in `query_results` and can look at the results by calling this variable."
   ]
  },
  {
   "cell_type": "code",
   "execution_count": 5,
   "metadata": {
    "collapsed": false
   },
   "outputs": [
    {
     "data": {
      "text/plain": [
       "{u'users': [{u'editcount': 12361,\n",
       "   u'gender': u'male',\n",
       "   u'groups': [u'reviewer', u'*', u'user', u'autoconfirmed'],\n",
       "   u'name': u'Madcoverboy',\n",
       "   u'registration': u'2005-06-21T13:52:16Z',\n",
       "   u'userid': 304994},\n",
       "  {u'editcount': 12624,\n",
       "   u'gender': u'unknown',\n",
       "   u'groups': [u'checkuser',\n",
       "    u'founder',\n",
       "    u'oversight',\n",
       "    u'sysop',\n",
       "    u'*',\n",
       "    u'user',\n",
       "    u'autoconfirmed'],\n",
       "   u'name': u'Jimbo Wales',\n",
       "   u'registration': u'2001-03-27T20:47:31Z',\n",
       "   u'userid': 24}]}"
      ]
     },
     "execution_count": 5,
     "metadata": {},
     "output_type": "execute_result"
    }
   ],
   "source": [
    "user_query = {'action':'query',\n",
    "              'list':'users',\n",
    "              'usprop':'blockinfo|groups|editcount|registration|gender',\n",
    "              'ususers':'Madcoverboy|Jimbo Wales'}\n",
    "\n",
    "query_results = basic_wikipedia_query(user_query)\n",
    "query_results"
   ]
  },
  {
   "cell_type": "markdown",
   "metadata": {},
   "source": [
    "The data structure that is returned is a dictionary keyed by `'users'` which returns a list of dictionaries. Knowing that the data corresponding to `Jimbo Wales` is the second element in the list of dictionaries (remember Python indices start at 0, so the 2nd element corresponds to 1), we can access his edit count. "
   ]
  },
  {
   "cell_type": "code",
   "execution_count": 6,
   "metadata": {
    "collapsed": false
   },
   "outputs": [
    {
     "data": {
      "text/plain": [
       "12624"
      ]
     },
     "execution_count": 6,
     "metadata": {},
     "output_type": "execute_result"
    }
   ],
   "source": [
    "query_results['users'][1]['editcount']"
   ]
  },
  {
   "cell_type": "markdown",
   "metadata": {},
   "source": [
    "Since the first document in the user list corresponds to my activity, we can identify how many edits I've made as well for comparison."
   ]
  },
  {
   "cell_type": "code",
   "execution_count": 7,
   "metadata": {
    "collapsed": false
   },
   "outputs": [
    {
     "data": {
      "text/plain": [
       "12361"
      ]
     },
     "execution_count": 7,
     "metadata": {},
     "output_type": "execute_result"
    }
   ],
   "source": [
    "query_results['users'][0]['editcount']"
   ]
  },
  {
   "cell_type": "markdown",
   "metadata": {},
   "source": [
    "The `query_results` data has two \"observations\" corresponding to \"Madcoverboy\" and \"Jimbo Wales\". We could create a CSV with the columns corresponding to the field names (`editcount`, `gender`, `groups`, `name`, `registration`, `userid`) and then two rows containing the corresponding values for each user.\n",
    "\n",
    "Using a powerful library called \"[pandas](http://pandas.pydata.org/)\" (short for \"panel data\", not the [cute bears](https://inhistime.files.wordpress.com/2010/10/cute-panda.jpg)), we can pass the list of data inside `query_results` and pandas will attempt to convert it to a tabular format called a DataFrame that can be exported to CSV. We save this as `df` and then use the `to_csv` function to write this DataFrame to a CSV file. We use to extra options, declaring quotation marks to make sure the data in `groups`, which already contains commas, doesn't get split up later. We don't care about the row numbers (the index), so we declare `index=False` so they aren't exported."
   ]
  },
  {
   "cell_type": "code",
   "execution_count": 8,
   "metadata": {
    "collapsed": false
   },
   "outputs": [
    {
     "data": {
      "text/html": [
       "<div>\n",
       "<table border=\"1\" class=\"dataframe\">\n",
       "  <thead>\n",
       "    <tr style=\"text-align: right;\">\n",
       "      <th></th>\n",
       "      <th>editcount</th>\n",
       "      <th>gender</th>\n",
       "      <th>groups</th>\n",
       "      <th>name</th>\n",
       "      <th>registration</th>\n",
       "      <th>userid</th>\n",
       "    </tr>\n",
       "  </thead>\n",
       "  <tbody>\n",
       "    <tr>\n",
       "      <th>0</th>\n",
       "      <td>12361</td>\n",
       "      <td>male</td>\n",
       "      <td>[reviewer, *, user, autoconfirmed]</td>\n",
       "      <td>Madcoverboy</td>\n",
       "      <td>2005-06-21T13:52:16Z</td>\n",
       "      <td>304994</td>\n",
       "    </tr>\n",
       "    <tr>\n",
       "      <th>1</th>\n",
       "      <td>12624</td>\n",
       "      <td>unknown</td>\n",
       "      <td>[checkuser, founder, oversight, sysop, *, user...</td>\n",
       "      <td>Jimbo Wales</td>\n",
       "      <td>2001-03-27T20:47:31Z</td>\n",
       "      <td>24</td>\n",
       "    </tr>\n",
       "  </tbody>\n",
       "</table>\n",
       "</div>"
      ],
      "text/plain": [
       "   editcount   gender                                             groups  \\\n",
       "0      12361     male                 [reviewer, *, user, autoconfirmed]   \n",
       "1      12624  unknown  [checkuser, founder, oversight, sysop, *, user...   \n",
       "\n",
       "          name          registration  userid  \n",
       "0  Madcoverboy  2005-06-21T13:52:16Z  304994  \n",
       "1  Jimbo Wales  2001-03-27T20:47:31Z      24  "
      ]
     },
     "execution_count": 8,
     "metadata": {},
     "output_type": "execute_result"
    }
   ],
   "source": [
    "query_results_df = pd.DataFrame(query_results['users'])\n",
    "#query_results_df.to_csv('query_results.csv',quotechar='\"',index=False)\n",
    "query_results_df"
   ]
  },
  {
   "cell_type": "markdown",
   "metadata": {},
   "source": [
    "In this section, we've covered the basics for how:\n",
    "\n",
    "* to look up documentation about the MediaWiki API\n",
    "* format a basic query and test to make sure it works within a web browser\n",
    "* running the same query within Python\n",
    "* writing a function to simplify querying data\n",
    "* writing the results of these queries to files so we can access these data later.\n",
    "\n",
    "In the next sections, we'll use other queries to get more interesting data about relationships and more advanced data manipulation techniques to prepare these data for social network analysis."
   ]
  },
  {
   "cell_type": "markdown",
   "metadata": {},
   "source": [
    "# Create a hyperlink network"
   ]
  },
  {
   "cell_type": "markdown",
   "metadata": {},
   "source": [
    "### Goal"
   ]
  },
  {
   "cell_type": "markdown",
   "metadata": {},
   "source": [
    "The value of Wikipedia articles (or really the web in general) is the fact that individual articles (pages) link to each other. We are going to use the Wikipedia article for the presumptive Democratic presidential candidate \"[Hillary Rodham Clinton](https://en.wikipedia.org/wiki/Hillary_Rodham_Clinton)\" as an example."
   ]
  },
  {
   "cell_type": "code",
   "execution_count": 8,
   "metadata": {
    "collapsed": false
   },
   "outputs": [
    {
     "data": {
      "text/html": [
       "<iframe src=https://en.wikipedia.org/w/index.php?title=Hillary_Clinton&useformat=mobile width=700 height=350></iframe>"
      ],
      "text/plain": [
       "<IPython.core.display.HTML object>"
      ]
     },
     "execution_count": 8,
     "metadata": {},
     "output_type": "execute_result"
    }
   ],
   "source": [
    "HTML('<iframe src=https://en.wikipedia.org/w/index.php?title=Hillary_Clinton&useformat=mobile width=700 height=350></iframe>')"
   ]
  },
  {
   "cell_type": "markdown",
   "metadata": {},
   "source": [
    "### Approach"
   ]
  },
  {
   "cell_type": "markdown",
   "metadata": {},
   "source": [
    "We need a few helper functions to simplify the output of the queries that Wikipedia will return. First, we write an `extract_to_list` function to conver the JSON-like nested results returned by the API and convert it into a more useful list of the content we care about."
   ]
  },
  {
   "cell_type": "code",
   "execution_count": 9,
   "metadata": {
    "collapsed": true
   },
   "outputs": [],
   "source": [
    "def extract_query_to_list(json, stuff, key):\n",
    "    l = []\n",
    "    pageid = str(json['query']['pages'].keys()[0])\n",
    "    if stuff in json['query']['pages'][pageid]:\n",
    "        for item in json['query']['pages'][pageid][stuff]:\n",
    "            if key:\n",
    "                l.append(item[key])\n",
    "            else:\n",
    "                l.append(item)\n",
    "    return l"
   ]
  },
  {
   "cell_type": "markdown",
   "metadata": {},
   "source": [
    "We're going to write a new qury function that takes advantage of some of the more advanced features of the wikitools library to handle some of the limitations of the API (paging of query results, etc.)"
   ]
  },
  {
   "cell_type": "code",
   "execution_count": 10,
   "metadata": {
    "collapsed": false
   },
   "outputs": [],
   "source": [
    "def wikipedia_query(wiki,params,stuff,key):\n",
    "    \"\"\" Perform a query on a 'wiki' endpoint, with a dictionary of parameters, that returns results keyed by 'stuff'\n",
    "    \"\"\"\n",
    "    # Make the query\n",
    "    results = wt.api.APIRequest(wiki=wiki,data=params).queryGen()\n",
    "    \n",
    "    # The results are a generator, so we need to catch the data\n",
    "    result_list = []\n",
    "    for result in results:\n",
    "        result_list += extract_query_to_list(result,stuff,key)\n",
    "        \n",
    "    return result_list"
   ]
  },
  {
   "cell_type": "markdown",
   "metadata": {},
   "source": [
    "### List of articles linked from an article"
   ]
  },
  {
   "cell_type": "markdown",
   "metadata": {},
   "source": [
    "We are going to use the `prop=links` query to identify a list of articles that are *currently* linked *from* an article. The general MediaWiki documentation for this query is [here](https://www.mediawiki.org/wiki/API:Properties#links_.2F_pl). We will specify a query using the `action=query` to define a general class of query, the `prop=links` to indicate we want the current links from a page, and then pass the name of a page with `titles=Hillary Rodham Clinton`.\n",
    "\n",
    "There are [many \"namespaces\" of Wikipedia pages](https://en.wikipedia.org/wiki/Wikipedia:Namespace) that reflect different kinds of pages for articles, article talk pages, user pages, user talk pages, and other administrative pages. Links to and from a Wikipedia article can come from all these name spaces, but because the Wikipedia articles that 99% of us ever read are located inside the \"0\" namespace, we'll only want to limit ourselves to links in that namespace rather than these \"backchannel\" links. We enforce this limit with the `plnamespace=0` option.\n",
    "\n",
    "There could potentially be hudreds of links from a single article but the API will only return some number per request. The `wikitools` library takes care of automatically generating additional requests if there is more data to obtain after the first request. Ideally, we could specify a large number like 10,000 to make sure we get all the links with a single request, but the API enforces a limit of 500 links per request and defaults to only 10 per request. We use the `pllimit=500` to make sure we get the maximum number of links per request instead of issuing 50 requests."
   ]
  },
  {
   "cell_type": "code",
   "execution_count": 11,
   "metadata": {
    "collapsed": true
   },
   "outputs": [],
   "source": [
    "hc_outlink_params = {'action': 'query',\n",
    "                 'prop': 'links',\n",
    "                 'titles': 'Hillary Clinton',\n",
    "                 'pllimit': '500',\n",
    "                 'plnamespace':'0'}\n",
    "\n",
    "# Create a Wiki object that points to the English Wikipedia API endpoint\n",
    "enwp = wt.wiki.Wiki(url='https://en.wikipedia.org/w/api.php')"
   ]
  },
  {
   "cell_type": "code",
   "execution_count": 12,
   "metadata": {
    "collapsed": false
   },
   "outputs": [
    {
     "name": "stdout",
     "output_type": "stream",
     "text": [
      "There are 1575 links in the Hillary Clinton article.\n"
     ]
    },
    {
     "data": {
      "text/plain": [
       "[u'1968 Republican National Convention',\n",
       " u'1992 Democratic National Convention',\n",
       " u'1994 State of the Union Address',\n",
       " u'1995 State of the Union Address',\n",
       " u'1996 Democratic National Convention',\n",
       " u'1996 State of the Union Address',\n",
       " u'1997 State of the Union Address',\n",
       " u'1998 State of the Union Address',\n",
       " u'1999 State of the Union Address',\n",
       " u'2000 State of the Union Address']"
      ]
     },
     "execution_count": 12,
     "metadata": {},
     "output_type": "execute_result"
    }
   ],
   "source": [
    "hc_outlink_data = wikipedia_query(enwp,hc_outlink_params,'links','title')\n",
    "print \"There are {0} links in the Hillary Clinton article.\".format(len(hc_outlink_data))\n",
    "hc_outlink_data[:10] # Show first 103"
   ]
  },
  {
   "cell_type": "markdown",
   "metadata": {},
   "source": [
    "##### A note on redirects"
   ]
  },
  {
   "cell_type": "markdown",
   "metadata": {},
   "source": [
    "Note that there is an article for \"Hillary Rodham Clinton\" as well, but this article is a [redirect](https://en.wikipedia.org/wiki/Wikipedia:Redirect). In other words, this article exists and has data that can be accessed from the API, but it's suspiciously sparse and just points to \"Hillary Clinton\"."
   ]
  },
  {
   "cell_type": "code",
   "execution_count": 13,
   "metadata": {
    "collapsed": false
   },
   "outputs": [
    {
     "name": "stdout",
     "output_type": "stream",
     "text": [
      "There are 1 links in the Hillary Rodham Clinton article.\n"
     ]
    },
    {
     "data": {
      "text/plain": [
       "[u'Hillary Clinton']"
      ]
     },
     "execution_count": 13,
     "metadata": {},
     "output_type": "execute_result"
    }
   ],
   "source": [
    "hrc_outlink_params = {'action': 'query',\n",
    "                    'prop': 'links',\n",
    "                    'titles': 'Hillary Rodham Clinton',\n",
    "                    'pllimit': '500',\n",
    "                    'plnamespace': '0'}\n",
    "\n",
    "hrc_outlink_data = wikipedia_query(enwp,hrc_outlink_params,'links','title')\n",
    "print \"There are {0} links in the Hillary Rodham Clinton article.\".format(len(hrc_outlink_data))\n",
    "hrc_outlink_data"
   ]
  },
  {
   "cell_type": "markdown",
   "metadata": {},
   "source": [
    "The MediaWiki API has a `redirects` option that lets us ignore these placeholder redirect pages and will follow the redirect to take us to the intended page. Adding this option to the query but specifying the same `Hillary Clinton` value for the `titles` parameter that previously led to a redirect now returns all the data at the \"Hillary Rodham Clinton\" article. We'll make sure to use this `redirects` option in future queries."
   ]
  },
  {
   "cell_type": "code",
   "execution_count": 14,
   "metadata": {
    "collapsed": false
   },
   "outputs": [
    {
     "name": "stdout",
     "output_type": "stream",
     "text": [
      "There are 1575 links from the Hillary Clinton article (via Hillary Rodham Clinton)\n"
     ]
    },
    {
     "data": {
      "text/plain": [
       "[u'1968 Republican National Convention',\n",
       " u'1992 Democratic National Convention',\n",
       " u'1994 State of the Union Address',\n",
       " u'1995 State of the Union Address',\n",
       " u'1996 Democratic National Convention',\n",
       " u'1996 State of the Union Address',\n",
       " u'1997 State of the Union Address',\n",
       " u'1998 State of the Union Address',\n",
       " u'1999 State of the Union Address',\n",
       " u'2000 State of the Union Address']"
      ]
     },
     "execution_count": 14,
     "metadata": {},
     "output_type": "execute_result"
    }
   ],
   "source": [
    "hrc_outlink_params_redirect = {'action': 'query',\n",
    "                             'prop': 'links',\n",
    "                             'titles': 'Hillary Rodham Clinton', # still \"Hillary Rodham Clinton\"\n",
    "                             'pllimit': '500',\n",
    "                             'plnamespace': '0',\n",
    "                             'redirects': 'True'} # redirects parameter added\n",
    "\n",
    "hrc_redirect_outlink_data = wikipedia_query(enwp,hrc_outlink_params_redirect,'links','title')\n",
    "print \"There are {0} links from the Hillary Clinton article (via Hillary Rodham Clinton)\".format(len(hrc_redirect_outlink_data))\n",
    "hrc_redirect_outlink_data[:10]"
   ]
  },
  {
   "cell_type": "markdown",
   "metadata": {},
   "source": [
    "### List of articles linking to an article"
   ]
  },
  {
   "cell_type": "markdown",
   "metadata": {},
   "source": [
    "We are going to use the `prop=linkshere` query to identify a list of articles that *currently* link to the Hillary Rodham Clinton article. The parameters for this query are a bit different. We still use a namespace limitation so we are only getting pages in the article namespace by specifying `lhnamespace=0` and we want to maximize the number of links per query that the API allows by specifying `lhlimit=500`. However, we don't want to include redirects that point to this article (e.g., \"Hillary Clinton\" points to \"Hillary Rodham Clinton\") by specifying `lhshow=!redirect`. Finally we only want the names of the articles, rather than less important information like \"pageid\" or \"redirects\", so we can limit this by specifying `lhprop=title`."
   ]
  },
  {
   "cell_type": "code",
   "execution_count": 15,
   "metadata": {
    "collapsed": false
   },
   "outputs": [
    {
     "name": "stdout",
     "output_type": "stream",
     "text": [
      "There are 3937 links to the Hillary Clinton article\n"
     ]
    },
    {
     "data": {
      "text/plain": [
       "[u'Arizona State University',\n",
       " u'Austin, Texas',\n",
       " u'Agent Orange',\n",
       " u'Aung San Suu Kyi',\n",
       " u'The Bronx',\n",
       " u'Bill Clinton',\n",
       " u'Bankruptcy',\n",
       " u'Chicago Cubs',\n",
       " u'Colin Powell',\n",
       " u'Cook Islands']"
      ]
     },
     "execution_count": 15,
     "metadata": {},
     "output_type": "execute_result"
    }
   ],
   "source": [
    "hc_inlink_query = {'action': 'query',\n",
    "                    'redirects': 'True',\n",
    "                    'prop': 'linkshere',\n",
    "                    'titles': 'Hillary Clinton',\n",
    "                    'lhlimit': '500',\n",
    "                    'lhnamespace': '0',\n",
    "                    'lhshow': '!redirect',\n",
    "                    'lhprop': 'title'}\n",
    "\n",
    "hc_inlink_data = wikipedia_query(enwp,hc_inlink_query,'linkshere','title')\n",
    "print \"There are {0} links to the Hillary Clinton article\".format(len(hc_inlink_data))\n",
    "hc_inlink_data[:10]"
   ]
  },
  {
   "cell_type": "markdown",
   "metadata": {},
   "source": [
    "# Make a basic ego-network"
   ]
  },
  {
   "cell_type": "markdown",
   "metadata": {},
   "source": [
    "Having collected data about the neighboring articles that are linked to or from one article, we can turn these data into an ego network. Using the `NetworkX` library (shortened to `nx` on import at the top), we will create a `DiGraph` object called `hc_g` and then fill it with the connection data we just collected. We do this by iterating over the lists of links (`hrc_inlink_data` and `hrc_outlink_data`) and adding a directed edge between each neighbor and the original article. It's important to pay attention to edge direction as the out-links should start at \"Hillary Clinton\" and end at the neighboring article whereas the in-links should start at the neighboring article and end at \"Hillary Clinton\"."
   ]
  },
  {
   "cell_type": "code",
   "execution_count": 16,
   "metadata": {
    "collapsed": false
   },
   "outputs": [],
   "source": [
    "hc_g = nx.DiGraph()\n",
    "\n",
    "for outlinked_article in hc_outlink_data:\n",
    "    hc_g.add_edge('Hillary Clinton',outlinked_article)\n",
    "    \n",
    "for inlinked_article in hc_inlink_data:\n",
    "    hc_g.add_edge(inlinked_article,'Hillary Clinton')"
   ]
  },
  {
   "cell_type": "markdown",
   "metadata": {},
   "source": [
    "Do some basic statistics on the graph."
   ]
  },
  {
   "cell_type": "code",
   "execution_count": 17,
   "metadata": {
    "collapsed": false
   },
   "outputs": [
    {
     "name": "stdout",
     "output_type": "stream",
     "text": [
      "There are 4593 nodes in the network.\n",
      "There are 5511 edges in the network.\n"
     ]
    }
   ],
   "source": [
    "print \"There are {0} nodes in the network.\".format(hc_g.number_of_nodes())\n",
    "print \"There are {0} edges in the network.\".format(hc_g.number_of_edges())"
   ]
  },
  {
   "cell_type": "markdown",
   "metadata": {},
   "source": [
    "Inspect the `hc_g` object. These are all the articles that link from and to the Hillary Clinton article."
   ]
  },
  {
   "cell_type": "code",
   "execution_count": 18,
   "metadata": {
    "collapsed": false
   },
   "outputs": [
    {
     "data": {
      "text/plain": [
       "[u'John Kasich presidential campaign, 2016',\n",
       " u'Violet Hill',\n",
       " u'Yucaipa Companies',\n",
       " u'Lindsey Graham presidential campaign, 2016',\n",
       " u'The First Lady (Faith Evans album)',\n",
       " u'Fuerzas Armadas de Liberaci\\xf3n Nacional Puertorrique\\xf1a',\n",
       " u'Governor of Arkansas',\n",
       " u'Mark Penn',\n",
       " u'Impeachment and acquittal of Bill Clinton',\n",
       " u'Markos Moulitsas']"
      ]
     },
     "execution_count": 18,
     "metadata": {},
     "output_type": "execute_result"
    }
   ],
   "source": [
    "hc_g.nodes()[:10]"
   ]
  },
  {
   "cell_type": "markdown",
   "metadata": {},
   "source": [
    "Find reciprocated hyperlinks, where A links to B and B links to A. These would suggest both articles agree that there's a strong relationship between the topics."
   ]
  },
  {
   "cell_type": "code",
   "execution_count": 19,
   "metadata": {
    "collapsed": false
   },
   "outputs": [
    {
     "name": "stdout",
     "output_type": "stream",
     "text": [
      "There are 919 reciprocated edges out of 5511 edges in the network, giving a reciprocation fraction of 16.7%.\n"
     ]
    }
   ],
   "source": [
    "reciprocal_edges = list()\n",
    "for (i,j) in hc_g.edges():\n",
    "    if hc_g.has_edge(j,i) and (j,i) not in reciprocal_edges:\n",
    "        reciprocal_edges.append((i,j))\n",
    "        \n",
    "reciprocation_fraction = round(float(len(reciprocal_edges))/hc_g.number_of_edges(),3)\n",
    "print \"There are {0} reciprocated edges out of {1} edges in the network, giving a reciprocation fraction of {2:.1%}.\".format(len(reciprocal_edges),hc_g.number_of_edges(),reciprocation_fraction)"
   ]
  },
  {
   "cell_type": "code",
   "execution_count": 20,
   "metadata": {
    "collapsed": false
   },
   "outputs": [
    {
     "name": "stdout",
     "output_type": "stream",
     "text": [
      "There are 919 reciprocated articles in the network.\n"
     ]
    },
    {
     "data": {
      "text/plain": [
       "[u'John Kasich presidential campaign, 2016',\n",
       " u'Lindsey Graham presidential campaign, 2016',\n",
       " u'Julie Krone',\n",
       " u'War Powers Resolution',\n",
       " u'Susan Estrich',\n",
       " u'Emily Dickinson',\n",
       " u'Libertarian Party presidential primaries, 2016',\n",
       " u'Thomas C. Platt',\n",
       " u'Ralph Nader presidential campaign, 2008',\n",
       " u'Emily Howell Warner']"
      ]
     },
     "execution_count": 20,
     "metadata": {},
     "output_type": "execute_result"
    }
   ],
   "source": [
    "reciprocated_articles = []\n",
    "\n",
    "for (article1,article2) in hc_g.edges_iter():\n",
    "    # Check if the swapped edge exists\n",
    "    if hc_g.has_edge(article2,article1): \n",
    "        # If it does, check if the first article is Hillary Clinton\n",
    "        if article1 != \"Hillary Clinton\":\n",
    "            # If it's not Hillary Clinton, add it to the article\n",
    "            reciprocated_articles.append(article1)\n",
    "        else:\n",
    "            # Otherwise, add the other article to the list\n",
    "            reciprocated_articles.append(article2)\n",
    "        \n",
    "print \"There are {0} reciprocated articles in the network.\".format(len(set(reciprocated_articles)))\n",
    "reciprocated_articles[:10]"
   ]
  },
  {
   "cell_type": "markdown",
   "metadata": {},
   "source": [
    "### Historical hyperlinks"
   ]
  },
  {
   "cell_type": "markdown",
   "metadata": {},
   "source": [
    "The queries above only looked at the links coming from the *current* version of the article. However Wikipedia archives every version of the article, so we can rewind the tape all the way back to the first version of Hillary's article back in 2001, a few months after Wikipedia was created. Specific versions of a Wikipedia article are identified with a `revid`, which is also called an `oldid` in some contexts. In subsequent sections, we'll go into more detail on how to get a list of all revisions to an article and find the oldest revision. But for the time being, just trust me that `revid` \"256189\" is the oldest (a.k.a, first) version of the Hillary Rodham Clinton article. Take a peek at what the article looked like back then below:"
   ]
  },
  {
   "cell_type": "code",
   "execution_count": 128,
   "metadata": {
    "collapsed": false
   },
   "outputs": [
    {
     "data": {
      "text/html": [
       "<iframe src=https://en.wikipedia.org/w/index.php?title=Hillary_Rodham_Clinton&oldid=256189&useformat=mobile width=700 height=350></iframe>"
      ],
      "text/plain": [
       "<IPython.core.display.HTML object>"
      ]
     },
     "execution_count": 128,
     "metadata": {},
     "output_type": "execute_result"
    }
   ],
   "source": [
    "HTML('<iframe src=https://en.wikipedia.org/w/index.php?title=Hillary_Rodham_Clinton&oldid=256189&useformat=mobile width=700 height=350></iframe>')"
   ]
  },
  {
   "cell_type": "markdown",
   "metadata": {},
   "source": [
    "We can write a new set of data extraction functions. The first, `extract_parse_to_list` is analogous to the `extract_query_to_list` from before, but accounts for the difference in the returned data structure. The second, `wikipedia_parse` is also analogous to the `wikipedia_query` function from before and take advantage of the `extract_parse_to_list` function."
   ]
  },
  {
   "cell_type": "code",
   "execution_count": 21,
   "metadata": {
    "collapsed": true
   },
   "outputs": [],
   "source": [
    "def extract_parse_to_list(json, stuff,key):\n",
    "    l = []\n",
    "    if stuff in json['parse'].keys():\n",
    "        for item in json['parse'][stuff]:\n",
    "            l.append(item[key])\n",
    "    return l\n",
    "\n",
    "def wikipedia_parse(wiki,params,stuff,key):\n",
    "    \"\"\" Perform a query on a 'wiki' endpoint, with a dictionary of parameters, that returns results keyed by 'stuff'\n",
    "    \"\"\"\n",
    "    # Make the query\n",
    "    results = wt.api.APIRequest(wiki=wiki,data=params).queryGen()\n",
    "    \n",
    "    # The results are a generator, so we need to catch the data\n",
    "    result_list = []\n",
    "    for result in results:\n",
    "        result_list += extract_parse_to_list(result,stuff,key)\n",
    "        \n",
    "    return result_list"
   ]
  },
  {
   "cell_type": "markdown",
   "metadata": {},
   "source": [
    "Define a set of parse parameters `oldest_outlinks_query_hc` to extract from the API. Use the `wikipedia_parse` function to get the list of articles linked from this oldest version of the article."
   ]
  },
  {
   "cell_type": "code",
   "execution_count": 22,
   "metadata": {
    "collapsed": false
   },
   "outputs": [
    {
     "name": "stdout",
     "output_type": "stream",
     "text": [
      "There are 9 outlinks in oldest revision of the Hillary Clinton article.\n"
     ]
    },
    {
     "data": {
      "text/plain": [
       "[u'Baby Boom',\n",
       " u'Bill Clinton',\n",
       " u'First Lady',\n",
       " u'New York',\n",
       " u'October 26',\n",
       " u'Senators Of The United States',\n",
       " u'United States/President',\n",
       " u'United States Senate',\n",
       " u'Watergate']"
      ]
     },
     "execution_count": 22,
     "metadata": {},
     "output_type": "execute_result"
    }
   ],
   "source": [
    "oldest_outlinks_query_hc = {'action': 'parse', #query changes to parse\n",
    "                             'prop': 'links',\n",
    "                             'oldid': '256189'}\n",
    "\n",
    "hc_oldest_outlinks = wikipedia_parse(enwp,oldest_outlinks_query_hc,'links','*')\n",
    "print \"There are {0} outlinks in oldest revision of the Hillary Clinton article.\".format(len(hc_oldest_outlinks))\n",
    "hc_oldest_outlinks[:10]"
   ]
  },
  {
   "cell_type": "markdown",
   "metadata": {},
   "source": [
    "So now we can also extract links from historical versions of the article. However, it's *much* more difficult to get the history of what links in to an article (e.g., `linkshere`) as this would require potentially looking at the history of every other article to check if a link was ever made from that article to another article. This is not impossible, just very *very* time-consuming."
   ]
  },
  {
   "cell_type": "markdown",
   "metadata": {},
   "source": [
    "### Summary"
   ]
  },
  {
   "cell_type": "markdown",
   "metadata": {},
   "source": [
    "In this section we learned to write and combine queries to get us the links to and from the current version of an article, how to handle redirects between articles, use these lists of links to make a network object, and did some preliminary analysis of an article's ego network. There are some limitations on the specificity of the links that the API passes back which limits our ability to generate more complex networks using this query. \n",
    "\n",
    "We also showed that it's possible to get the out links from a historical version of an article using a new kind of API action called a `parse`. Using the out links from all the changes to an article could let us look at the evolution of what the article linked to over time. We'll go into how to get all the changes to an article in the next section."
   ]
  },
  {
   "cell_type": "markdown",
   "metadata": {},
   "source": [
    "# Complete article history"
   ]
  },
  {
   "cell_type": "markdown",
   "metadata": {},
   "source": [
    "The previous section showed how to make a basic network from the current hyperlinks to and from a Wikipedia article. It also alluded to the fact that Wikipedia captures the history of every change made to the article since it was created as well as who made these changes and when (among other meta-data). In this section, we'll explore some queries around how to extract the \"revision history\" of an article from the API. We'll do some exploratory analysis using these data to understand patterns in the distribution of editors' activity, changes in content, and the persistence of revisions. Additionally, we'll construct a co-authorship network of what editors made a change to the article.\n",
    "\n",
    "Starting with a basic query, we'll get every change that's been made to the \"Hillary Clinton\" article. We'll use `action=query` and `prop=revisions` to get the list of changes to an article (see detailed documentation [here](https://www.mediawiki.org/wiki/API:Properties#revisions_.2F_rv)). There are many options to specify here. We pass several options to `rvprop` to get the revision ids, timestamp, user, user ID, revision comment, and the size of the article; \"max\" to `rvlimit` to get all the revisions; \"newer\" to `rvdir` so the revisions come back in chronological order (oldest to newest). There are many other options that can be specified such as `rvprop=content` to get the content of each revision or `rvstart` and `rvend` to get revisions within a specific timeframe, and `rvexcludeuser` to omit changes from bots for example."
   ]
  },
  {
   "cell_type": "code",
   "execution_count": 23,
   "metadata": {
    "collapsed": false
   },
   "outputs": [
    {
     "name": "stdout",
     "output_type": "stream",
     "text": [
      "There have been a total of 13449 revisions made to the article.\n"
     ]
    },
    {
     "data": {
      "text/plain": [
       "{u'comment': u'*',\n",
       " u'parentid': 0,\n",
       " u'revid': 256189,\n",
       " u'size': 380,\n",
       " u'timestamp': u'2001-08-01T20:21:17Z',\n",
       " u'user': u'Koyaanis Qatsi',\n",
       " u'userid': 90}"
      ]
     },
     "execution_count": 23,
     "metadata": {},
     "output_type": "execute_result"
    }
   ],
   "source": [
    "revisions_query_hc = {'action': 'query',\n",
    "                      'redirects': 'True',\n",
    "                      'prop': 'revisions',\n",
    "                      'titles': \"Hillary Rodham Clinton\",\n",
    "                      'rvprop': 'ids|user|timestamp|userid|comment|size',\n",
    "                      'rvlimit': '500',\n",
    "                      'rvdir': 'newer'}\n",
    "\n",
    "revisions_data_hc = wikipedia_query(enwp,revisions_query_hc,'revisions',None)\n",
    "print \"There have been a total of {0} revisions made to the article.\".format(len(revisions_data_hc))\n",
    "revisions_data_hc[0]"
   ]
  },
  {
   "cell_type": "markdown",
   "metadata": {},
   "source": [
    "Covert these data to a tabular format to make data analysis easier. pandas can interpret the list of dictionaries with a Datarame where each dictionary in the list is a row in the table and each key in each dictionary is a column in the table."
   ]
  },
  {
   "cell_type": "code",
   "execution_count": 24,
   "metadata": {
    "collapsed": false
   },
   "outputs": [
    {
     "data": {
      "text/html": [
       "<div>\n",
       "<table border=\"1\" class=\"dataframe\">\n",
       "  <thead>\n",
       "    <tr style=\"text-align: right;\">\n",
       "      <th></th>\n",
       "      <th>anon</th>\n",
       "      <th>comment</th>\n",
       "      <th>parentid</th>\n",
       "      <th>revid</th>\n",
       "      <th>size</th>\n",
       "      <th>timestamp</th>\n",
       "      <th>user</th>\n",
       "      <th>userid</th>\n",
       "    </tr>\n",
       "  </thead>\n",
       "  <tbody>\n",
       "    <tr>\n",
       "      <th>0</th>\n",
       "      <td>NaN</td>\n",
       "      <td>*</td>\n",
       "      <td>0</td>\n",
       "      <td>256189</td>\n",
       "      <td>380</td>\n",
       "      <td>2001-08-01T20:21:17Z</td>\n",
       "      <td>Koyaanis Qatsi</td>\n",
       "      <td>90</td>\n",
       "    </tr>\n",
       "    <tr>\n",
       "      <th>1</th>\n",
       "      <td></td>\n",
       "      <td>*added a bit on Hillary Clinton</td>\n",
       "      <td>256189</td>\n",
       "      <td>256190</td>\n",
       "      <td>697</td>\n",
       "      <td>2001-12-07T01:58:07Z</td>\n",
       "      <td>152.163.197.xxx</td>\n",
       "      <td>0</td>\n",
       "    </tr>\n",
       "    <tr>\n",
       "      <th>2</th>\n",
       "      <td>NaN</td>\n",
       "      <td>Took out the slander</td>\n",
       "      <td>256190</td>\n",
       "      <td>256191</td>\n",
       "      <td>663</td>\n",
       "      <td>2001-12-07T02:14:20Z</td>\n",
       "      <td>Paul Drye</td>\n",
       "      <td>6</td>\n",
       "    </tr>\n",
       "    <tr>\n",
       "      <th>3</th>\n",
       "      <td></td>\n",
       "      <td>Automated conversion</td>\n",
       "      <td>256191</td>\n",
       "      <td>72270</td>\n",
       "      <td>877</td>\n",
       "      <td>2002-02-25T15:51:15Z</td>\n",
       "      <td>Conversion script</td>\n",
       "      <td>0</td>\n",
       "    </tr>\n",
       "    <tr>\n",
       "      <th>4</th>\n",
       "      <td></td>\n",
       "      <td>*</td>\n",
       "      <td>72270</td>\n",
       "      <td>72271</td>\n",
       "      <td>920</td>\n",
       "      <td>2002-05-18T16:37:57Z</td>\n",
       "      <td>210.49.193.178</td>\n",
       "      <td>0</td>\n",
       "    </tr>\n",
       "  </tbody>\n",
       "</table>\n",
       "</div>"
      ],
      "text/plain": [
       "  anon                          comment  parentid   revid  size  \\\n",
       "0  NaN                                *         0  256189   380   \n",
       "1       *added a bit on Hillary Clinton    256189  256190   697   \n",
       "2  NaN             Took out the slander    256190  256191   663   \n",
       "3                  Automated conversion    256191   72270   877   \n",
       "4                                     *     72270   72271   920   \n",
       "\n",
       "              timestamp               user  userid  \n",
       "0  2001-08-01T20:21:17Z     Koyaanis Qatsi      90  \n",
       "1  2001-12-07T01:58:07Z    152.163.197.xxx       0  \n",
       "2  2001-12-07T02:14:20Z          Paul Drye       6  \n",
       "3  2002-02-25T15:51:15Z  Conversion script       0  \n",
       "4  2002-05-18T16:37:57Z     210.49.193.178       0  "
      ]
     },
     "execution_count": 24,
     "metadata": {},
     "output_type": "execute_result"
    }
   ],
   "source": [
    "hc_revision_df = pd.DataFrame(revisions_data_hc)\n",
    "hc_revision_df.head()"
   ]
  },
  {
   "cell_type": "markdown",
   "metadata": {},
   "source": [
    "Lets do some additional data cleanup."
   ]
  },
  {
   "cell_type": "code",
   "execution_count": 25,
   "metadata": {
    "collapsed": false
   },
   "outputs": [
    {
     "data": {
      "text/html": [
       "<div>\n",
       "<table border=\"1\" class=\"dataframe\">\n",
       "  <thead>\n",
       "    <tr style=\"text-align: right;\">\n",
       "      <th></th>\n",
       "      <th></th>\n",
       "      <th>anon</th>\n",
       "      <th>comment</th>\n",
       "      <th>parentid</th>\n",
       "      <th>revid</th>\n",
       "      <th>size</th>\n",
       "      <th>timestamp</th>\n",
       "      <th>user</th>\n",
       "      <th>userid</th>\n",
       "      <th>date</th>\n",
       "    </tr>\n",
       "    <tr>\n",
       "      <th>page</th>\n",
       "      <th>revision</th>\n",
       "      <th></th>\n",
       "      <th></th>\n",
       "      <th></th>\n",
       "      <th></th>\n",
       "      <th></th>\n",
       "      <th></th>\n",
       "      <th></th>\n",
       "      <th></th>\n",
       "      <th></th>\n",
       "    </tr>\n",
       "  </thead>\n",
       "  <tbody>\n",
       "    <tr>\n",
       "      <th rowspan=\"5\" valign=\"top\">Hillary Clinton</th>\n",
       "      <th>0</th>\n",
       "      <td>False</td>\n",
       "      <td>*</td>\n",
       "      <td>0</td>\n",
       "      <td>256189</td>\n",
       "      <td>380</td>\n",
       "      <td>2001-08-01 20:21:17</td>\n",
       "      <td>Koyaanis Qatsi</td>\n",
       "      <td>90</td>\n",
       "      <td>2001-08-01</td>\n",
       "    </tr>\n",
       "    <tr>\n",
       "      <th>1</th>\n",
       "      <td>True</td>\n",
       "      <td>*added a bit on Hillary Clinton</td>\n",
       "      <td>256189</td>\n",
       "      <td>256190</td>\n",
       "      <td>697</td>\n",
       "      <td>2001-12-07 01:58:07</td>\n",
       "      <td>152.163.197.xxx</td>\n",
       "      <td>0</td>\n",
       "      <td>2001-12-07</td>\n",
       "    </tr>\n",
       "    <tr>\n",
       "      <th>2</th>\n",
       "      <td>False</td>\n",
       "      <td>Took out the slander</td>\n",
       "      <td>256190</td>\n",
       "      <td>256191</td>\n",
       "      <td>663</td>\n",
       "      <td>2001-12-07 02:14:20</td>\n",
       "      <td>Paul Drye</td>\n",
       "      <td>6</td>\n",
       "      <td>2001-12-07</td>\n",
       "    </tr>\n",
       "    <tr>\n",
       "      <th>3</th>\n",
       "      <td>True</td>\n",
       "      <td>Automated conversion</td>\n",
       "      <td>256191</td>\n",
       "      <td>72270</td>\n",
       "      <td>877</td>\n",
       "      <td>2002-02-25 15:51:15</td>\n",
       "      <td>Conversion script</td>\n",
       "      <td>0</td>\n",
       "      <td>2002-02-25</td>\n",
       "    </tr>\n",
       "    <tr>\n",
       "      <th>4</th>\n",
       "      <td>True</td>\n",
       "      <td>*</td>\n",
       "      <td>72270</td>\n",
       "      <td>72271</td>\n",
       "      <td>920</td>\n",
       "      <td>2002-05-18 16:37:57</td>\n",
       "      <td>210.49.193.178</td>\n",
       "      <td>0</td>\n",
       "      <td>2002-05-18</td>\n",
       "    </tr>\n",
       "  </tbody>\n",
       "</table>\n",
       "</div>"
      ],
      "text/plain": [
       "                           anon                          comment  parentid  \\\n",
       "page            revision                                                     \n",
       "Hillary Clinton 0         False                                *         0   \n",
       "                1          True  *added a bit on Hillary Clinton    256189   \n",
       "                2         False             Took out the slander    256190   \n",
       "                3          True             Automated conversion    256191   \n",
       "                4          True                                *     72270   \n",
       "\n",
       "                           revid  size           timestamp               user  \\\n",
       "page            revision                                                        \n",
       "Hillary Clinton 0         256189   380 2001-08-01 20:21:17     Koyaanis Qatsi   \n",
       "                1         256190   697 2001-12-07 01:58:07    152.163.197.xxx   \n",
       "                2         256191   663 2001-12-07 02:14:20          Paul Drye   \n",
       "                3          72270   877 2002-02-25 15:51:15  Conversion script   \n",
       "                4          72271   920 2002-05-18 16:37:57     210.49.193.178   \n",
       "\n",
       "                          userid        date  \n",
       "page            revision                      \n",
       "Hillary Clinton 0             90  2001-08-01  \n",
       "                1              0  2001-12-07  \n",
       "                2              6  2001-12-07  \n",
       "                3              0  2002-02-25  \n",
       "                4              0  2002-05-18  "
      ]
     },
     "execution_count": 25,
     "metadata": {},
     "output_type": "execute_result"
    }
   ],
   "source": [
    "# Make it clear what's being edited\n",
    "hc_revision_df['page'] = 'Hillary Clinton'\n",
    "\n",
    "# Clean up timestamps\n",
    "hc_revision_df['timestamp'] = pd.to_datetime(hc_revision_df['timestamp'],format=\"%Y-%m-%dT%H:%M:%SZ\",unit='s')\n",
    "\n",
    "# Extract dates\n",
    "hc_revision_df['date'] = hc_revision_df['timestamp'].apply(lambda x:x.date())\n",
    "\n",
    "# Clean up anon column\n",
    "hc_revision_df = hc_revision_df.replace({'anon':{np.nan:False,u'':True}})\n",
    "\n",
    "# Sort the data on timestamp and reset the index\n",
    "hc_revision_df = hc_revision_df.sort_values('timestamp').reset_index(drop=True)\n",
    "hc_revision_df.index.name = 'revision'\n",
    "hc_revision_df = hc_revision_df.reset_index()\n",
    "\n",
    "# Set the index to a MultiIndex\n",
    "hc_revision_df.set_index(['page','revision'],inplace=True)\n",
    "\n",
    "# Save the data to disk\n",
    "#hc_revision_df.to_csv('hc_revisions.csv',encoding='utf8')\n",
    "\n",
    "# Show the first 5 rows\n",
    "hc_revision_df.head()"
   ]
  },
  {
   "cell_type": "markdown",
   "metadata": {},
   "source": [
    "### Revision activity"
   ]
  },
  {
   "cell_type": "code",
   "execution_count": 26,
   "metadata": {
    "collapsed": false
   },
   "outputs": [
    {
     "data": {
      "text/plain": [
       "<matplotlib.text.Text at 0xd3e1710>"
      ]
     },
     "execution_count": 26,
     "metadata": {},
     "output_type": "execute_result"
    },
    {
     "data": {
      "image/png": "[encoded data removed]",
      "text/plain": [
       "<matplotlib.figure.Figure at 0xa0cef60>"
      ]
     },
     "metadata": {},
     "output_type": "display_data"
    }
   ],
   "source": [
    "activity_by_day = hc_revision_df.groupby('date').aggregate({'revid':len})\n",
    "activity_by_day['cum_revisions'] = activity_by_day['revid'].cumsum()\n",
    "\n",
    "ax = activity_by_day.plot(lw=1,secondary_y=['cum_revisions'])\n",
    "#patches, labels = ax.get_legend_handles_labels()\n",
    "#ax.legend(patches, labels, loc='center left',bbox_to_anchor=(1,.5))\n",
    "\n",
    "ax.set_ylabel('Daily revisions',fontsize=15)\n",
    "ax.set_xlabel('Time',fontsize=15)"
   ]
  },
  {
   "cell_type": "markdown",
   "metadata": {},
   "source": [
    "### User activity"
   ]
  },
  {
   "cell_type": "markdown",
   "metadata": {},
   "source": [
    "We might be interested in looking at the most active editors over the history of the article. We can perform a `groupby` operation that effectively creates a mini-DataFrame for each user's revisions. We use the `aggregate` function to collection information (`len` gets us the number of revisions they made) across all these mini-DataFrames and returns a `Series` object with the username and the number of their revisions. Sorting these revisions is descending order and then look at the top-5 revisions, which exhibits variation over nearly two orders of magnitude."
   ]
  },
  {
   "cell_type": "code",
   "execution_count": 27,
   "metadata": {
    "collapsed": false
   },
   "outputs": [
    {
     "name": "stdout",
     "output_type": "stream",
     "text": [
      "There are 3834 unique users who have made a contribution to the article.\n"
     ]
    },
    {
     "data": {
      "text/plain": [
       "user\n",
       "Wasted Time R      2357\n",
       "LukeTH              656\n",
       "Tvoz                314\n",
       "K157                137\n",
       "Professor JR        123\n",
       "Anythingyouwant     117\n",
       "Mark Miller          83\n",
       "StuffOfInterest      74\n",
       "Scjessey             65\n",
       "Ohnoitsjamie         57\n",
       "Name: revid, dtype: int64"
      ]
     },
     "execution_count": 27,
     "metadata": {},
     "output_type": "execute_result"
    }
   ],
   "source": [
    "hc_revision_gb_user = hc_revision_df.groupby('user')\n",
    "hc_user_revisions = hc_revision_gb_user['revid'].aggregate(len).sort_values(ascending=False,inplace=False)\n",
    "print \"There are {0} unique users who have made a contribution to the article.\".format(len(hc_user_revisions))\n",
    "hc_user_revisions.head(10)"
   ]
  },
  {
   "cell_type": "markdown",
   "metadata": {},
   "source": [
    "Given the wide variation among the number of contributions from users, we can create a kind of \"histogram\" that plots how many users made how many revisions. Because there is so much variation in the data, we use logged axes. In the upper left, there are several thousand editors who made only a single contribution. In the lower right, are the single editors listed above who made several hundred revisions to this article."
   ]
  },
  {
   "cell_type": "code",
   "execution_count": 28,
   "metadata": {
    "collapsed": false
   },
   "outputs": [
    {
     "data": {
      "text/plain": [
       "1    2368\n",
       "2     627\n",
       "3     293\n",
       "4     167\n",
       "5      76\n",
       "Name: revid, dtype: int64"
      ]
     },
     "execution_count": 28,
     "metadata": {},
     "output_type": "execute_result"
    }
   ],
   "source": [
    "revisions_counter = hc_user_revisions.value_counts()\n",
    "revisions_counter.head()"
   ]
  },
  {
   "cell_type": "code",
   "execution_count": 29,
   "metadata": {
    "collapsed": false
   },
   "outputs": [
    {
     "data": {
      "text/plain": [
       "123     1\n",
       "137     1\n",
       "314     1\n",
       "656     1\n",
       "2357    1\n",
       "Name: revid, dtype: int64"
      ]
     },
     "execution_count": 29,
     "metadata": {},
     "output_type": "execute_result"
    }
   ],
   "source": [
    "revisions_counter[revisions_counter == 1].sort_index().tail()"
   ]
  },
  {
   "cell_type": "code",
   "execution_count": 30,
   "metadata": {
    "collapsed": false
   },
   "outputs": [
    {
     "data": {
      "image/png": "[encoded data removed]",
      "text/plain": [
       "<matplotlib.figure.Figure at 0xa0e0a90>"
      ]
     },
     "metadata": {},
     "output_type": "display_data"
    }
   ],
   "source": [
    "ax = revisions_counter.reset_index().plot(x='index',y='revid',kind='scatter',s=100)\n",
    "ax.set_ylabel('Number of users',fontsize=15)\n",
    "ax.set_xlabel('Number of revisions',fontsize=15)\n",
    "ax.set_yscale('symlog')\n",
    "ax.set_xscale('symlog')\n",
    "ax.set_ylim((0,1e4))\n",
    "ax.set_xlim((0,1e4));"
   ]
  },
  {
   "cell_type": "markdown",
   "metadata": {},
   "source": [
    "### Revision changes"
   ]
  },
  {
   "cell_type": "markdown",
   "metadata": {},
   "source": [
    "We can also look at the distribution in changes to the article's size. In other words, how much content (in bytes) was introduced or removed from the article by an editor's changes? We see there is a very wide (axes are still on log scales) and mostly symmetrical distribution in additions and removals of content. In other words, the most frequent changes are extremely minor (-1 to 1 bytes) and the biggest changes (dozens of kilobytes) are very rare --- and likely the result of vandalism and reversion of vandalism. Nevertheless it's the case that this Wikipedia article's history is as much about the *removal* of content as it is about the *addition* of content."
   ]
  },
  {
   "cell_type": "code",
   "execution_count": 31,
   "metadata": {
    "collapsed": false
   },
   "outputs": [
    {
     "data": {
      "text/plain": [
       "page             revision\n",
       "Hillary Clinton  0             NaN\n",
       "                 1           317.0\n",
       "                 2           -34.0\n",
       "                 3           214.0\n",
       "                 4            43.0\n",
       "Name: diff, dtype: float64"
      ]
     },
     "execution_count": 31,
     "metadata": {},
     "output_type": "execute_result"
    }
   ],
   "source": [
    "hc_revision_df['diff'] = hc_revision_df['size'].diff()\n",
    "hc_revision_df['diff'].head()"
   ]
  },
  {
   "cell_type": "markdown",
   "metadata": {},
   "source": [
    "There are 646 revisions that don't change the length of the article. The next largest group of revisions are small changes that result in only additions or removals of a single character."
   ]
  },
  {
   "cell_type": "code",
   "execution_count": 32,
   "metadata": {
    "collapsed": false
   },
   "outputs": [
    {
     "data": {
      "text/plain": [
       " 0.0    646\n",
       " 1.0    342\n",
       "-1.0    308\n",
       " 4.0    253\n",
       " 2.0    212\n",
       "Name: diff, dtype: int64"
      ]
     },
     "execution_count": 32,
     "metadata": {},
     "output_type": "execute_result"
    }
   ],
   "source": [
    "diffs_counts = hc_revision_df['diff'].value_counts()\n",
    "#diffs_counts = diffs_counts.apply(lambda x:round(x,-1)) # round off integers\n",
    "diffs_counts.head()"
   ]
  },
  {
   "cell_type": "code",
   "execution_count": 33,
   "metadata": {
    "collapsed": false
   },
   "outputs": [
    {
     "data": {
      "image/png": "[encoded data removed]",
      "text/plain": [
       "<matplotlib.figure.Figure at 0xdef4be0>"
      ]
     },
     "metadata": {},
     "output_type": "display_data"
    }
   ],
   "source": [
    "ax = diffs_counts.reset_index().plot(x='index',y='diff',kind='scatter',s=50)\n",
    "ax.set_ylabel('Number of users',fontsize=15)\n",
    "ax.set_xlabel('Size of change',fontsize=15)\n",
    "ax.set_yscale('symlog')\n",
    "ax.set_xscale('symlog')\n",
    "ax.set_ylim((0,1e4))\n",
    "ax.set_xlim((-1e6,1e6));"
   ]
  },
  {
   "cell_type": "markdown",
   "metadata": {},
   "source": [
    "### Edit latencies"
   ]
  },
  {
   "cell_type": "markdown",
   "metadata": {},
   "source": [
    "We can also explore how long an edit persists on the article before another edit is subsequently made. The average edit only persists for ~34,500 seconds (~9.5 hours) but the median edit only persists for 881 seconds (~15 minutes)."
   ]
  },
  {
   "cell_type": "code",
   "execution_count": 34,
   "metadata": {
    "collapsed": false
   },
   "outputs": [
    {
     "data": {
      "text/plain": [
       "1.0    1724\n",
       "2.0    1052\n",
       "3.0     715\n",
       "0.0     586\n",
       "4.0     473\n",
       "Name: latency, dtype: int64"
      ]
     },
     "execution_count": 34,
     "metadata": {},
     "output_type": "execute_result"
    }
   ],
   "source": [
    "# The diff returns timedeltas, but dividing by a 1-second timedelta returns a float\n",
    "# Round these numbers off to smooth out the distribution and add 1 second to everything to make the plot behave\n",
    "hc_revision_df['latency'] = hc_revision_df['timestamp'].diff().apply(lambda x:round(x/np.timedelta64(1,'m'),0))\n",
    "latency_counter = hc_revision_df['latency'].value_counts()\n",
    "latency_counter.sort_values(ascending=False).head()"
   ]
  },
  {
   "cell_type": "code",
   "execution_count": 35,
   "metadata": {
    "collapsed": false
   },
   "outputs": [
    {
     "data": {
      "text/plain": [
       "count     13448.000000\n",
       "mean        571.827707\n",
       "std        3462.326969\n",
       "min           0.000000\n",
       "25%           2.750000\n",
       "50%          17.000000\n",
       "75%         247.000000\n",
       "max      183217.000000\n",
       "Name: latency, dtype: float64"
      ]
     },
     "execution_count": 35,
     "metadata": {},
     "output_type": "execute_result"
    }
   ],
   "source": [
    "hc_revision_df['latency'].describe()"
   ]
  },
  {
   "cell_type": "code",
   "execution_count": 36,
   "metadata": {
    "collapsed": false
   },
   "outputs": [
    {
     "data": {
      "text/plain": [
       "(-1, 1000000.0)"
      ]
     },
     "execution_count": 36,
     "metadata": {},
     "output_type": "execute_result"
    },
    {
     "data": {
      "image/png": "[encoded data removed]",
      "text/plain": [
       "<matplotlib.figure.Figure at 0xdef1fd0>"
      ]
     },
     "metadata": {},
     "output_type": "display_data"
    }
   ],
   "source": [
    "ax = latency_counter.reset_index().plot(x='index',y='latency',kind='scatter',s=50)\n",
    "ax.set_xlabel('Latency time (minutes)',fontsize=15)\n",
    "ax.set_ylabel('Number of changes',fontsize=15)\n",
    "ax.set_yscale('symlog')\n",
    "ax.set_xscale('symlog')\n",
    "ax.set_ylim((0,1e4))\n",
    "ax.set_xlim((-1,1e6))"
   ]
  },
  {
   "cell_type": "markdown",
   "metadata": {},
   "source": [
    "As we did above, we can recompute `activity_by_day` to include daily median changes in the latency between edits. There is substantial variation in how long edits persist. Again, the pre-2006 era is marked by content that goes days or weeks without changes, but between 2006 and 2009 the time between edits becomes much shorter, presumably corresponding with the attention around her presidential campaign. After 2008, the time between changes increases again and stabilizes at its (smoothed) current value of around 2 days between edits."
   ]
  },
  {
   "cell_type": "code",
   "execution_count": 37,
   "metadata": {
    "collapsed": false
   },
   "outputs": [
    {
     "data": {
      "text/plain": [
       "<matplotlib.text.Text at 0xd3c1ef0>"
      ]
     },
     "execution_count": 37,
     "metadata": {},
     "output_type": "execute_result"
    },
    {
     "data": {
      "image/png": "[encoded data removed]",
      "text/plain": [
       "<matplotlib.figure.Figure at 0xdef1748>"
      ]
     },
     "metadata": {},
     "output_type": "display_data"
    }
   ],
   "source": [
    "activity_by_day = hc_revision_df.groupby('date').aggregate({'revid':len,\n",
    "                                                       'diff':np.median,\n",
    "                                                       'latency':np.median})\n",
    "\n",
    "# Compute a 28-day rolling average to remove spikiness, plot\n",
    "activity_by_day['latency'].rolling(window=28).mean().plot()\n",
    "plt.yscale('symlog')\n",
    "plt.xlabel('Time',fontsize=15)\n",
    "plt.ylabel('Latency time (seconds)',fontsize=15)"
   ]
  },
  {
   "cell_type": "code",
   "execution_count": 38,
   "metadata": {
    "collapsed": false
   },
   "outputs": [
    {
     "data": {
      "text/plain": [
       "<matplotlib.text.Text at 0xd9af198>"
      ]
     },
     "execution_count": 38,
     "metadata": {},
     "output_type": "execute_result"
    },
    {
     "data": {
      "image/png": "[encoded data removed]",
      "text/plain": [
       "<matplotlib.figure.Figure at 0xdca3400>"
      ]
     },
     "metadata": {},
     "output_type": "display_data"
    }
   ],
   "source": [
    "# Compute a 56-day rolling average to remove spikiness, plot\n",
    "activity_by_day['diff'].rolling(window=56).mean().plot()\n",
    "plt.yscale('symlog')\n",
    "plt.xlabel('Time',fontsize=15)\n",
    "plt.ylabel('Median changes (bytes)',fontsize=15)"
   ]
  },
  {
   "cell_type": "markdown",
   "metadata": {},
   "source": [
    "# Network Analysis"
   ]
  },
  {
   "cell_type": "code",
   "execution_count": 39,
   "metadata": {
    "collapsed": false
   },
   "outputs": [
    {
     "name": "stdout",
     "output_type": "stream",
     "text": [
      "There are 149 links from the 2016 US presidential election template\n"
     ]
    },
    {
     "data": {
      "text/plain": [
       "[u'2016 Democratic National Convention',\n",
       " u'2016 Green National Convention',\n",
       " u'2016 Libertarian National Convention',\n",
       " u'2016 Republican National Convention',\n",
       " u'Alyson Kennedy',\n",
       " u'Andy Martin',\n",
       " u'Angela Walker',\n",
       " u'Austin Petersen',\n",
       " u'Ben Carson',\n",
       " u'Ben Carson presidential campaign, 2016']"
      ]
     },
     "execution_count": 39,
     "metadata": {},
     "output_type": "execute_result"
    }
   ],
   "source": [
    "candidates_2016_params = {'action': 'query',\n",
    "                             'prop': 'links',\n",
    "                             'titles': 'Template:United_States_presidential_election,_2016',\n",
    "                             'pllimit': '500',\n",
    "                             'plnamespace': '0',\n",
    "                             'redirects': 'True'} # redirects parameter added\n",
    "\n",
    "candidates_2016_articles = wikipedia_query(enwp,candidates_2016_params,'links','title')\n",
    "print \"There are {0} links from the 2016 US presidential election template\".format(len(candidates_2016_articles))\n",
    "candidates_2016_articles[:10]"
   ]
  },
  {
   "cell_type": "code",
   "execution_count": 40,
   "metadata": {
    "collapsed": true
   },
   "outputs": [],
   "source": [
    "def get_revision_df(article):\n",
    "    revisions_query = {'action': 'query',\n",
    "                      'redirects': 'True',\n",
    "                      'prop': 'revisions',\n",
    "                      'titles': article,\n",
    "                      'rvprop': 'ids|user|timestamp|user|userid|comment|size',\n",
    "                      'rvlimit': '500',\n",
    "                      'rvdir': 'newer'}\n",
    "\n",
    "    revisions_data = wikipedia_query(enwp,revisions_query,'revisions',None)\n",
    "\n",
    "    # Extract and convert to DataFrame. Try/except for links to pages that don't exist\n",
    "    try:\n",
    "        df = pd.DataFrame(revisions_data)\n",
    "        \n",
    "        # Make it clear what's being edited\n",
    "        df['page'] = article\n",
    "\n",
    "        # Clean up timestamps\n",
    "        df['timestamp'] = pd.to_datetime(df['timestamp'],format=\"%Y-%m-%dT%H:%M:%SZ\",unit='s')\n",
    "\n",
    "        # Clean up anon column. If/else for articles that have all non-anon editors\n",
    "        if 'anon' in df.columns:\n",
    "            df = df.replace({'anon':{np.nan:False,u'':True}})\n",
    "        else:\n",
    "            df['anon'] = False\n",
    "\n",
    "        # Sort the data on timestamp and reset the index\n",
    "        df = df.sort_values('timestamp').reset_index(drop=True)\n",
    "        df.index.name = 'revision'\n",
    "        df = df.reset_index()\n",
    "\n",
    "        # Set the index to a MultiIndex\n",
    "        #df.set_index(['page','revision'],inplace=True)\n",
    "\n",
    "        # Compute additional features\n",
    "        df['date'] = df['timestamp'].apply(lambda x:x.date())\n",
    "        df['diff'] = df['size'].diff()\n",
    "        df['latency'] = df['timestamp'].diff().apply(lambda x:round(x/np.timedelta64(1,'s'),-1) + 1)\n",
    "\n",
    "        # Don't return random other columns\n",
    "        df = df[[u'anon',u'comment',u'parentid',u'revid',u'size',u'timestamp',\n",
    "                 u'revision',u'user',u'userid',u'date', u'diff', u'latency','page']]\n",
    "\n",
    "        return df\n",
    "        \n",
    "    except KeyError:\n",
    "        print u\"{0} doesn't exist!\".format(article)\n",
    "        pass"
   ]
  },
  {
   "cell_type": "markdown",
   "metadata": {},
   "source": [
    "This is the dangerous part! Go out and get the revision histories for each article in `candidates_2016_articles` using the function above. This will take between 5-10 minutes."
   ]
  },
  {
   "cell_type": "raw",
   "metadata": {},
   "source": [
    "revisions_dict = dict()\n",
    "for article in candidates_2016_articles:\n",
    "    try:\n",
    "        revisions_dict[article] = get_revision_df(article)\n",
    "    except:\n",
    "        print article\n",
    "        pass\n",
    "\n",
    "# Create a ginantic table of all the results by concatenating each individual article's DataFrame together.\n",
    "revision_df = pd.concat(revisions_dict.values())\n",
    "revision_df.to_csv('2016_campaign_revisions.csv',encoding='utf8',index=False)"
   ]
  },
  {
   "cell_type": "markdown",
   "metadata": {},
   "source": [
    "Or read in the data that I've already saved locally."
   ]
  },
  {
   "cell_type": "code",
   "execution_count": 41,
   "metadata": {
    "collapsed": false
   },
   "outputs": [
    {
     "name": "stdout",
     "output_type": "stream",
     "text": [
      "There are 149 articles in the revisions_dict structure.\n",
      "There are 240028 total revisions across al articles.\n"
     ]
    }
   ],
   "source": [
    "revision_df = pd.read_csv('2016_campaign_revisions.csv',encoding='utf8',index_col=0,parse_dates=['timestamp','date'])\n",
    "\n",
    "print \"There are {0} articles in the revisions_dict structure.\".format(len(revision_df['page'].value_counts()))\n",
    "print \"There are {0} total revisions across al articles.\".format(len(revision_df))"
   ]
  },
  {
   "cell_type": "markdown",
   "metadata": {},
   "source": [
    "### Create a co-authorship network"
   ]
  },
  {
   "cell_type": "markdown",
   "metadata": {},
   "source": [
    "We want to create a co-authorship network of which editors revised which articles. This is a [bipartite graph](https://en.wikipedia.org/wiki/Bipartite_graph) in which there are two distinct classes of nodes: editors and articles. Editors cannot revise editors and articles cannot revise articles. We will also make sure the graph is directed to preserve ordering information: editors revise articles but articles cannot revise editors."
   ]
  },
  {
   "cell_type": "code",
   "execution_count": 42,
   "metadata": {
    "collapsed": false
   },
   "outputs": [
    {
     "data": {
      "text/plain": [
       "True"
      ]
     },
     "execution_count": 42,
     "metadata": {},
     "output_type": "execute_result"
    }
   ],
   "source": [
    "toy_bipartite_graph = nx.DiGraph()\n",
    "toy_edges = [('e1','a1'),\n",
    "             ('e2','a1'),\n",
    "             ('e1','a2'),\n",
    "             ('e3','a2')\n",
    "            ]\n",
    "toy_bipartite_graph.add_edges_from(toy_edges)\n",
    "\n",
    "nx.algorithms.bipartite.is_bipartite(toy_bipartite_graph)"
   ]
  },
  {
   "cell_type": "markdown",
   "metadata": {},
   "source": [
    "Lots of users make only one revision. Let's ignore them for the sake of efficiency and tractability for the time being. We'll make a list of all these users and then exclude them from the graph construction in the following steps."
   ]
  },
  {
   "cell_type": "code",
   "execution_count": 43,
   "metadata": {
    "collapsed": false
   },
   "outputs": [
    {
     "data": {
      "text/html": [
       "<div>\n",
       "<table border=\"1\" class=\"dataframe\">\n",
       "  <thead>\n",
       "    <tr style=\"text-align: right;\">\n",
       "      <th></th>\n",
       "      <th>anon</th>\n",
       "      <th>comment</th>\n",
       "      <th>parentid</th>\n",
       "      <th>revid</th>\n",
       "      <th>size</th>\n",
       "      <th>timestamp</th>\n",
       "      <th>user</th>\n",
       "      <th>userid</th>\n",
       "      <th>date</th>\n",
       "      <th>diff</th>\n",
       "      <th>latency</th>\n",
       "      <th>page</th>\n",
       "      <th>revision_index</th>\n",
       "    </tr>\n",
       "  </thead>\n",
       "  <tbody>\n",
       "    <tr>\n",
       "      <th>0</th>\n",
       "      <td>False</td>\n",
       "      <td>[[WP:AES|←]]Redirected page to [[John Kasich#P...</td>\n",
       "      <td>0</td>\n",
       "      <td>669130762</td>\n",
       "      <td>62</td>\n",
       "      <td>2015-06-29 02:42:51</td>\n",
       "      <td>Dwc89</td>\n",
       "      <td>13323245.0</td>\n",
       "      <td>2015-06-29</td>\n",
       "      <td>NaN</td>\n",
       "      <td>NaN</td>\n",
       "      <td>John Kasich presidential campaign, 2016</td>\n",
       "      <td>0</td>\n",
       "    </tr>\n",
       "    <tr>\n",
       "      <th>1</th>\n",
       "      <td>False</td>\n",
       "      <td>Basic formatting stuff added ahead of time.</td>\n",
       "      <td>669130762</td>\n",
       "      <td>671137656</td>\n",
       "      <td>1094</td>\n",
       "      <td>2015-07-12 18:13:57</td>\n",
       "      <td>Spartan7W</td>\n",
       "      <td>13723007.0</td>\n",
       "      <td>2015-07-12</td>\n",
       "      <td>1032.0</td>\n",
       "      <td>1179071.0</td>\n",
       "      <td>John Kasich presidential campaign, 2016</td>\n",
       "      <td>1</td>\n",
       "    </tr>\n",
       "    <tr>\n",
       "      <th>2</th>\n",
       "      <td>False</td>\n",
       "      <td>Campaign will be announced in less than 48 hou...</td>\n",
       "      <td>671137656</td>\n",
       "      <td>672191408</td>\n",
       "      <td>1030</td>\n",
       "      <td>2015-07-19 23:01:28</td>\n",
       "      <td>Spartan7W</td>\n",
       "      <td>13723007.0</td>\n",
       "      <td>2015-07-19</td>\n",
       "      <td>-64.0</td>\n",
       "      <td>622051.0</td>\n",
       "      <td>John Kasich presidential campaign, 2016</td>\n",
       "      <td>2</td>\n",
       "    </tr>\n",
       "  </tbody>\n",
       "</table>\n",
       "</div>"
      ],
      "text/plain": [
       "    anon                                            comment   parentid  \\\n",
       "0  False  [[WP:AES|←]]Redirected page to [[John Kasich#P...          0   \n",
       "1  False        Basic formatting stuff added ahead of time.  669130762   \n",
       "2  False  Campaign will be announced in less than 48 hou...  671137656   \n",
       "\n",
       "       revid  size           timestamp       user      userid       date  \\\n",
       "0  669130762    62 2015-06-29 02:42:51      Dwc89  13323245.0 2015-06-29   \n",
       "1  671137656  1094 2015-07-12 18:13:57  Spartan7W  13723007.0 2015-07-12   \n",
       "2  672191408  1030 2015-07-19 23:01:28  Spartan7W  13723007.0 2015-07-19   \n",
       "\n",
       "     diff    latency                                     page  revision_index  \n",
       "0     NaN        NaN  John Kasich presidential campaign, 2016               0  \n",
       "1  1032.0  1179071.0  John Kasich presidential campaign, 2016               1  \n",
       "2   -64.0   622051.0  John Kasich presidential campaign, 2016               2  "
      ]
     },
     "execution_count": 43,
     "metadata": {},
     "output_type": "execute_result"
    }
   ],
   "source": [
    "# Identify users who make multiple revisions in the dataset\n",
    "multirevision_editors = revision_df.groupby(['user']).agg({'revid':len}).query('revid > 1').index\n",
    "\n",
    "# Subset the article to only multi-revision editors\n",
    "multirevision_df = revision_df[revision_df['user'].isin(multirevision_editors)]\n",
    "\n",
    "# Some editors have the same name as the article --- no this isn't a bug, editors are just inconsiderate\n",
    "multirevision_df = multirevision_df[multirevision_df['page'] != multirevision_df['user']]\n",
    "\n",
    "multirevision_df.head(3)"
   ]
  },
  {
   "cell_type": "markdown",
   "metadata": {},
   "source": [
    "We want to create a similar \"edgelist\" that contains all the (`editor`, `article`) pairs of who contributed to which articles. This could by done by looping over the list, but this is inefficient on larger datasets like the one we crawled. Instead, we'll use a `groupby` approach to not only count the number of times an editor contributed to an article (the `weight` we defined previous), but a whole host of other potentially interesting attributes as meta-data on the edges.\n",
    "\n",
    "We use the `agg` method on the data that's been grouped by `page` and `user` to aggregate the information into nice summary statistics. We count the number of revisions using `len` and relabel this variable `weight`. For the `timestamp`, `diff`, `latency`, and `revision` variables, we compute new summary statistics for the minimum, median, and maximum values. This operation returns a new DataFrame, indexed by (`page`, `user`) with columns corresponding to labels like `weight`, `ts_min`, etc. Each row in this DataFrame will become attributes in the graph object we make below. This operation creates a weird multi-column, so we drop the redundant 0-level of the column to have a nice concise column.\n",
    "\n",
    "We're going to do something different to the `timestamp` data because these data are stored as `Timestamp` objects that don't always place nicely with other functions. Instead, we're going to convert these data to counts for the amount of time (in days) since January 16, 2001, the date that Wikipedia was founded. In effect, we're counting how \"old\" Wikipedia was when an action occurred and this `float` count will work better in subsequent steps."
   ]
  },
  {
   "cell_type": "code",
   "execution_count": 44,
   "metadata": {
    "collapsed": false
   },
   "outputs": [
    {
     "data": {
      "text/html": [
       "<div>\n",
       "<table border=\"1\" class=\"dataframe\">\n",
       "  <thead>\n",
       "    <tr style=\"text-align: right;\">\n",
       "      <th></th>\n",
       "      <th></th>\n",
       "      <th>revision_min</th>\n",
       "      <th>revision_max</th>\n",
       "      <th>ts_min</th>\n",
       "      <th>ts_max</th>\n",
       "      <th>weight</th>\n",
       "      <th>latency_min</th>\n",
       "      <th>latency_median</th>\n",
       "      <th>latency_max</th>\n",
       "      <th>diff_median</th>\n",
       "      <th>diff_max</th>\n",
       "      <th>diff_min</th>\n",
       "    </tr>\n",
       "    <tr>\n",
       "      <th>user</th>\n",
       "      <th>page</th>\n",
       "      <th></th>\n",
       "      <th></th>\n",
       "      <th></th>\n",
       "      <th></th>\n",
       "      <th></th>\n",
       "      <th></th>\n",
       "      <th></th>\n",
       "      <th></th>\n",
       "      <th></th>\n",
       "      <th></th>\n",
       "      <th></th>\n",
       "    </tr>\n",
       "  </thead>\n",
       "  <tbody>\n",
       "    <tr>\n",
       "      <th rowspan=\"2\" valign=\"top\">!pwlooflirpa</th>\n",
       "      <th>United States presidential election debates, 2016</th>\n",
       "      <td>1314</td>\n",
       "      <td>1318</td>\n",
       "      <td>4458.848345</td>\n",
       "      <td>4458.923183</td>\n",
       "      <td>3</td>\n",
       "      <td>171.0</td>\n",
       "      <td>1341.0</td>\n",
       "      <td>6201.0</td>\n",
       "      <td>-44071.0</td>\n",
       "      <td>-44071.0</td>\n",
       "      <td>-44071.0</td>\n",
       "    </tr>\n",
       "    <tr>\n",
       "      <th>United States presidential election, 2016</th>\n",
       "      <td>1314</td>\n",
       "      <td>1318</td>\n",
       "      <td>4458.848345</td>\n",
       "      <td>4458.923183</td>\n",
       "      <td>3</td>\n",
       "      <td>171.0</td>\n",
       "      <td>1341.0</td>\n",
       "      <td>6201.0</td>\n",
       "      <td>-44071.0</td>\n",
       "      <td>-44071.0</td>\n",
       "      <td>-44071.0</td>\n",
       "    </tr>\n",
       "    <tr>\n",
       "      <th>\"Country\" Bushrod Washington</th>\n",
       "      <th>Green Party of the United States</th>\n",
       "      <td>364</td>\n",
       "      <td>364</td>\n",
       "      <td>2036.000775</td>\n",
       "      <td>2036.000775</td>\n",
       "      <td>1</td>\n",
       "      <td>32101.0</td>\n",
       "      <td>32101.0</td>\n",
       "      <td>32101.0</td>\n",
       "      <td>-13.0</td>\n",
       "      <td>-13.0</td>\n",
       "      <td>-13.0</td>\n",
       "    </tr>\n",
       "  </tbody>\n",
       "</table>\n",
       "</div>"
      ],
      "text/plain": [
       "                                                                                revision_min  \\\n",
       "user                         page                                                              \n",
       "!pwlooflirpa                 United States presidential election debates, 2016          1314   \n",
       "                             United States presidential election, 2016                  1314   \n",
       "\"Country\" Bushrod Washington Green Party of the United States                            364   \n",
       "\n",
       "                                                                                revision_max  \\\n",
       "user                         page                                                              \n",
       "!pwlooflirpa                 United States presidential election debates, 2016          1318   \n",
       "                             United States presidential election, 2016                  1318   \n",
       "\"Country\" Bushrod Washington Green Party of the United States                            364   \n",
       "\n",
       "                                                                                     ts_min  \\\n",
       "user                         page                                                             \n",
       "!pwlooflirpa                 United States presidential election debates, 2016  4458.848345   \n",
       "                             United States presidential election, 2016          4458.848345   \n",
       "\"Country\" Bushrod Washington Green Party of the United States                   2036.000775   \n",
       "\n",
       "                                                                                     ts_max  \\\n",
       "user                         page                                                             \n",
       "!pwlooflirpa                 United States presidential election debates, 2016  4458.923183   \n",
       "                             United States presidential election, 2016          4458.923183   \n",
       "\"Country\" Bushrod Washington Green Party of the United States                   2036.000775   \n",
       "\n",
       "                                                                                weight  \\\n",
       "user                         page                                                        \n",
       "!pwlooflirpa                 United States presidential election debates, 2016       3   \n",
       "                             United States presidential election, 2016               3   \n",
       "\"Country\" Bushrod Washington Green Party of the United States                        1   \n",
       "\n",
       "                                                                                latency_min  \\\n",
       "user                         page                                                             \n",
       "!pwlooflirpa                 United States presidential election debates, 2016        171.0   \n",
       "                             United States presidential election, 2016                171.0   \n",
       "\"Country\" Bushrod Washington Green Party of the United States                       32101.0   \n",
       "\n",
       "                                                                                latency_median  \\\n",
       "user                         page                                                                \n",
       "!pwlooflirpa                 United States presidential election debates, 2016          1341.0   \n",
       "                             United States presidential election, 2016                  1341.0   \n",
       "\"Country\" Bushrod Washington Green Party of the United States                          32101.0   \n",
       "\n",
       "                                                                                latency_max  \\\n",
       "user                         page                                                             \n",
       "!pwlooflirpa                 United States presidential election debates, 2016       6201.0   \n",
       "                             United States presidential election, 2016               6201.0   \n",
       "\"Country\" Bushrod Washington Green Party of the United States                       32101.0   \n",
       "\n",
       "                                                                                diff_median  \\\n",
       "user                         page                                                             \n",
       "!pwlooflirpa                 United States presidential election debates, 2016     -44071.0   \n",
       "                             United States presidential election, 2016             -44071.0   \n",
       "\"Country\" Bushrod Washington Green Party of the United States                         -13.0   \n",
       "\n",
       "                                                                                diff_max  \\\n",
       "user                         page                                                          \n",
       "!pwlooflirpa                 United States presidential election debates, 2016  -44071.0   \n",
       "                             United States presidential election, 2016          -44071.0   \n",
       "\"Country\" Bushrod Washington Green Party of the United States                      -13.0   \n",
       "\n",
       "                                                                                diff_min  \n",
       "user                         page                                                         \n",
       "!pwlooflirpa                 United States presidential election debates, 2016  -44071.0  \n",
       "                             United States presidential election, 2016          -44071.0  \n",
       "\"Country\" Bushrod Washington Green Party of the United States                      -13.0  "
      ]
     },
     "execution_count": 44,
     "metadata": {},
     "output_type": "execute_result"
    }
   ],
   "source": [
    "revision_gb_edge = multirevision_df.groupby(['user','page'])\n",
    "revision_edgelist = revision_gb_edge.agg({'revid':{'weight':len},\n",
    "                                        'timestamp':{'ts_min':np.min,'ts_max':np.max},\n",
    "                                        'diff':{'diff_min':np.min,'diff_median':np.median,'diff_max':np.max},\n",
    "                                        'latency':{'latency_min':np.min,'latency_median':np.median,'latency_max':np.max},\n",
    "                                        'revision_index':{'revision_min':np.min,'revision_max':np.max}})\n",
    "\n",
    "# Drop the legacy/redundant column names\n",
    "revision_edgelist.columns = revision_edgelist.columns.droplevel(0)\n",
    "\n",
    "# Convert the ts_min and ts_max to floats for the number of days since Wikipedia was founded\n",
    "revision_edgelist['ts_min'] = (revision_edgelist['ts_min'] - pd.Timestamp('2001-1-16'))/np.timedelta64(1,'D')\n",
    "revision_edgelist['ts_max'] = (revision_edgelist['ts_max'] - pd.Timestamp('2001-1-16'))/np.timedelta64(1,'D')\n",
    "\n",
    "revision_edgelist.head(3)"
   ]
  },
  {
   "cell_type": "markdown",
   "metadata": {},
   "source": [
    "The nodes in this bipartite network also have attributes we can extract from the data. Remember, because this is a bipartite network, we'll need to generate attribute data for both the users and the pages. We can perform an analogous `groupby` operation as we used above, but simply group on either the `user` or the `page` values. After each of these `groupby` operations, we can perform similar `agg` operations to aggregate the data into summary statistics. In the case of the user, these summary statistics are across all articles in the data. Thus the `usernodelist` summarizes how many total edits a *user* made, their first and last observed edits, and the distribution of their `diff`, `latency`, and `revision` statistics. The `pagenodelist` summarizes how many total edits were made to the *page*, the date of the first and last edit, and so on."
   ]
  },
  {
   "cell_type": "code",
   "execution_count": 45,
   "metadata": {
    "collapsed": false
   },
   "outputs": [
    {
     "data": {
      "text/html": [
       "<div>\n",
       "<table border=\"1\" class=\"dataframe\">\n",
       "  <thead>\n",
       "    <tr style=\"text-align: right;\">\n",
       "      <th></th>\n",
       "      <th>revision_min</th>\n",
       "      <th>revision_max</th>\n",
       "      <th>revision_median</th>\n",
       "      <th>ts_min</th>\n",
       "      <th>ts_max</th>\n",
       "      <th>revisions</th>\n",
       "      <th>latency_min</th>\n",
       "      <th>latency_median</th>\n",
       "      <th>latency_max</th>\n",
       "      <th>diff_median</th>\n",
       "      <th>diff_max</th>\n",
       "      <th>diff_min</th>\n",
       "    </tr>\n",
       "    <tr>\n",
       "      <th>page</th>\n",
       "      <th></th>\n",
       "      <th></th>\n",
       "      <th></th>\n",
       "      <th></th>\n",
       "      <th></th>\n",
       "      <th></th>\n",
       "      <th></th>\n",
       "      <th></th>\n",
       "      <th></th>\n",
       "      <th></th>\n",
       "      <th></th>\n",
       "      <th></th>\n",
       "    </tr>\n",
       "  </thead>\n",
       "  <tbody>\n",
       "    <tr>\n",
       "      <th>2016 Democratic National Convention</th>\n",
       "      <td>0</td>\n",
       "      <td>191</td>\n",
       "      <td>90.0</td>\n",
       "      <td>3668.711921</td>\n",
       "      <td>5535.053796</td>\n",
       "      <td>172</td>\n",
       "      <td>1.0</td>\n",
       "      <td>3501.0</td>\n",
       "      <td>92537531.0</td>\n",
       "      <td>4.0</td>\n",
       "      <td>3552.0</td>\n",
       "      <td>-11199.0</td>\n",
       "    </tr>\n",
       "    <tr>\n",
       "      <th>2016 Green National Convention</th>\n",
       "      <td>0</td>\n",
       "      <td>11</td>\n",
       "      <td>5.5</td>\n",
       "      <td>4320.866759</td>\n",
       "      <td>5531.198461</td>\n",
       "      <td>12</td>\n",
       "      <td>51.0</td>\n",
       "      <td>272331.0</td>\n",
       "      <td>76449501.0</td>\n",
       "      <td>46.0</td>\n",
       "      <td>1730.0</td>\n",
       "      <td>-622.0</td>\n",
       "    </tr>\n",
       "    <tr>\n",
       "      <th>2016 Libertarian National Convention</th>\n",
       "      <td>0</td>\n",
       "      <td>27</td>\n",
       "      <td>14.5</td>\n",
       "      <td>4320.865764</td>\n",
       "      <td>5531.198079</td>\n",
       "      <td>26</td>\n",
       "      <td>41.0</td>\n",
       "      <td>184671.0</td>\n",
       "      <td>41661981.0</td>\n",
       "      <td>25.0</td>\n",
       "      <td>2384.0</td>\n",
       "      <td>-869.0</td>\n",
       "    </tr>\n",
       "    <tr>\n",
       "      <th>2016 Republican National Convention</th>\n",
       "      <td>0</td>\n",
       "      <td>189</td>\n",
       "      <td>93.0</td>\n",
       "      <td>4242.946100</td>\n",
       "      <td>5538.780532</td>\n",
       "      <td>155</td>\n",
       "      <td>1.0</td>\n",
       "      <td>2241.0</td>\n",
       "      <td>42935131.0</td>\n",
       "      <td>8.0</td>\n",
       "      <td>4885.0</td>\n",
       "      <td>-6191.0</td>\n",
       "    </tr>\n",
       "    <tr>\n",
       "      <th>Alyson Kennedy</th>\n",
       "      <td>0</td>\n",
       "      <td>59</td>\n",
       "      <td>29.5</td>\n",
       "      <td>2545.600428</td>\n",
       "      <td>5516.976539</td>\n",
       "      <td>56</td>\n",
       "      <td>11.0</td>\n",
       "      <td>611661.0</td>\n",
       "      <td>32384141.0</td>\n",
       "      <td>14.0</td>\n",
       "      <td>1329.0</td>\n",
       "      <td>-111.0</td>\n",
       "    </tr>\n",
       "  </tbody>\n",
       "</table>\n",
       "</div>"
      ],
      "text/plain": [
       "                                      revision_min  revision_max  \\\n",
       "page                                                               \n",
       "2016 Democratic National Convention              0           191   \n",
       "2016 Green National Convention                   0            11   \n",
       "2016 Libertarian National Convention             0            27   \n",
       "2016 Republican National Convention              0           189   \n",
       "Alyson Kennedy                                   0            59   \n",
       "\n",
       "                                      revision_median       ts_min  \\\n",
       "page                                                                 \n",
       "2016 Democratic National Convention              90.0  3668.711921   \n",
       "2016 Green National Convention                    5.5  4320.866759   \n",
       "2016 Libertarian National Convention             14.5  4320.865764   \n",
       "2016 Republican National Convention              93.0  4242.946100   \n",
       "Alyson Kennedy                                   29.5  2545.600428   \n",
       "\n",
       "                                           ts_max  revisions  latency_min  \\\n",
       "page                                                                        \n",
       "2016 Democratic National Convention   5535.053796        172          1.0   \n",
       "2016 Green National Convention        5531.198461         12         51.0   \n",
       "2016 Libertarian National Convention  5531.198079         26         41.0   \n",
       "2016 Republican National Convention   5538.780532        155          1.0   \n",
       "Alyson Kennedy                        5516.976539         56         11.0   \n",
       "\n",
       "                                      latency_median  latency_max  \\\n",
       "page                                                                \n",
       "2016 Democratic National Convention           3501.0   92537531.0   \n",
       "2016 Green National Convention              272331.0   76449501.0   \n",
       "2016 Libertarian National Convention        184671.0   41661981.0   \n",
       "2016 Republican National Convention           2241.0   42935131.0   \n",
       "Alyson Kennedy                              611661.0   32384141.0   \n",
       "\n",
       "                                      diff_median  diff_max  diff_min  \n",
       "page                                                                   \n",
       "2016 Democratic National Convention           4.0    3552.0  -11199.0  \n",
       "2016 Green National Convention               46.0    1730.0    -622.0  \n",
       "2016 Libertarian National Convention         25.0    2384.0    -869.0  \n",
       "2016 Republican National Convention           8.0    4885.0   -6191.0  \n",
       "Alyson Kennedy                               14.0    1329.0    -111.0  "
      ]
     },
     "execution_count": 45,
     "metadata": {},
     "output_type": "execute_result"
    }
   ],
   "source": [
    "# Define a general aggregation function\n",
    "agg_function = {'revid':{'revisions':len},\n",
    "                'timestamp':{'ts_min':np.min,'ts_max':np.max},\n",
    "                'diff':{'diff_min':np.min,'diff_median':np.median,'diff_max':np.max},\n",
    "                'latency':{'latency_min':np.min,'latency_median':np.median,'latency_max':np.max},\n",
    "                'revision_index':{'revision_min':np.min,'revision_median':np.median,'revision_max':np.max}}\n",
    "\n",
    "# Create the usernodelist by grouping on user and aggregating\n",
    "revision_gb_user = multirevision_df.groupby(['user'])\n",
    "user_nodelist = revision_gb_user.agg(agg_function)\n",
    "\n",
    "# Clean up the columns and convert the timestamps to counts\n",
    "user_nodelist.columns = user_nodelist.columns.droplevel(0)\n",
    "user_nodelist['ts_min'] = (user_nodelist['ts_min'] - pd.Timestamp('2001-1-16'))/np.timedelta64(1,'D')\n",
    "user_nodelist['ts_max'] = (user_nodelist['ts_max'] - pd.Timestamp('2001-1-16'))/np.timedelta64(1,'D')\n",
    "\n",
    "# Create the usernodelist by grouping on page and aggregating\n",
    "revision_gb_page = multirevision_df.reset_index().groupby(['page'])\n",
    "page_nodelist = revision_gb_page.agg(agg_function)\n",
    "\n",
    "# Clean up the columns and convert the timestamps to counts\n",
    "page_nodelist.columns = page_nodelist.columns.droplevel(0)\n",
    "page_nodelist['ts_min'] = (page_nodelist['ts_min'] - pd.Timestamp('2001-1-16'))/np.timedelta64(1,'D')\n",
    "page_nodelist['ts_max'] = (page_nodelist['ts_max'] - pd.Timestamp('2001-1-16'))/np.timedelta64(1,'D')\n",
    "\n",
    "page_nodelist.head()"
   ]
  },
  {
   "cell_type": "markdown",
   "metadata": {},
   "source": [
    "Now that we've created all this rich contextual data about edges, pages, and editors, we can load it all into a `NetworkX` `DiGraph` object called `election_g`. We start by looping over the index in the `revision_edgelist` dataframe that corresponds to the edges in the network, convert the edge attributes to a dictionary for `NetworkX` to better digest, and then add this edge and all its data to the `election_g` graph object. This creates placeholder nodes, but we want to add the rich node data we created above as well. We can loop over the `revision_user_nodelist`, convert the node attributes to a dictionary, and then overwrite the placeholder nodes by adding the data-rich user nodes to the `election_g` graph object. We do the same for the `revision_page_nodelist`, then check the number of nodes and edges in the network, and finally print out a few examples of the data-rich nodes and edges."
   ]
  },
  {
   "cell_type": "code",
   "execution_count": 46,
   "metadata": {
    "collapsed": false
   },
   "outputs": [
    {
     "name": "stdout",
     "output_type": "stream",
     "text": [
      "Is the graph bipartite? True\n",
      "There are 22183 nodes and 48987 edges in the network.\n"
     ]
    },
    {
     "data": {
      "text/plain": [
       "(u'Wa3pxx',\n",
       " u'Mike Huckabee',\n",
       " {'diff_max': 4.0,\n",
       "  'diff_median': 4.0,\n",
       "  'diff_min': 4.0,\n",
       "  'latency_max': 33671.0,\n",
       "  'latency_median': 33671.0,\n",
       "  'latency_min': 33671.0,\n",
       "  'revision_max': 1574.0,\n",
       "  'revision_min': 1574.0,\n",
       "  'ts_max': 2500.6229050925926,\n",
       "  'ts_min': 2500.6229050925926,\n",
       "  'weight': 1.0})"
      ]
     },
     "execution_count": 46,
     "metadata": {},
     "output_type": "execute_result"
    }
   ],
   "source": [
    "# Create the empty graph object that we'll fill up\n",
    "election_g = nx.DiGraph()\n",
    "\n",
    "# Reformat the edgelist to be a list of tuples, where each tuple is the edge names and the dictionary of metadata\n",
    "edgelist_reformatted = [(editor,article,{k:float(v) for k,v in d.iteritems()}) for (editor,article),d in revision_edgelist.to_dict('index').iteritems()]\n",
    "\n",
    "# Reformat the nodelist to be a list of tuples, where each tuple is the node name and the dictionary of metadata\n",
    "page_nodelist_reformatted = [(editor,{k:float(v) for k,v in d.iteritems()}) for editor,d in page_nodelist.to_dict('index').iteritems()]\n",
    "user_nodelist_reformatted = [(user,{k:float(v) for k,v in d.iteritems()}) for user,d in user_nodelist.to_dict('index').iteritems()]\n",
    "\n",
    "# Add the edges to the network\n",
    "election_g.add_edges_from(edgelist_reformatted)\n",
    "\n",
    "# Add the nodes to the network\n",
    "#combined_nodelist_reformatted = page_nodelist_reformatted + user_nodelist_reformatted\n",
    "election_g.add_nodes_from(page_nodelist_reformatted,node_type='page')\n",
    "election_g.add_nodes_from(user_nodelist_reformatted,node_type='user')\n",
    "\n",
    "print \"Is the graph bipartite? {0}\".format(nx.bipartite.is_bipartite(election_g))\n",
    "print \"There are {0} nodes and {1} edges in the network.\".format(election_g.number_of_nodes(),election_g.number_of_edges())\n",
    "\n",
    "# Show an example edge in the network\n",
    "election_g.edges(data=True)[0]"
   ]
  },
  {
   "cell_type": "markdown",
   "metadata": {},
   "source": [
    "An example of a node and its metadata in the graph object."
   ]
  },
  {
   "cell_type": "code",
   "execution_count": 47,
   "metadata": {
    "collapsed": false
   },
   "outputs": [
    {
     "data": {
      "text/plain": [
       "(u'Wa3pxx',\n",
       " {'diff_max': 4.0,\n",
       "  'diff_median': 0.5,\n",
       "  'diff_min': -6.0,\n",
       "  'latency_max': 33671.0,\n",
       "  'latency_median': 13586.0,\n",
       "  'latency_min': 91.0,\n",
       "  'node_type': 'user',\n",
       "  'revision_max': 1574.0,\n",
       "  'revision_median': 658.5,\n",
       "  'revision_min': 657.0,\n",
       "  'revisions': 4.0,\n",
       "  'ts_max': 2796.6105787037036,\n",
       "  'ts_min': 2500.6229050925926})"
      ]
     },
     "execution_count": 47,
     "metadata": {},
     "output_type": "execute_result"
    }
   ],
   "source": [
    "election_g.nodes(data=True)[0]"
   ]
  },
  {
   "cell_type": "markdown",
   "metadata": {},
   "source": [
    "Write the network object out to file to visualize it. We're going to load this up in Gephi to explore it."
   ]
  },
  {
   "cell_type": "code",
   "execution_count": 152,
   "metadata": {
    "collapsed": true
   },
   "outputs": [],
   "source": [
    "nx.write_gexf(election_g,'election_g.gexf')"
   ]
  },
  {
   "cell_type": "markdown",
   "metadata": {},
   "source": [
    "Compute the projection onto editors who've worked on articles in common. This isn't terribly useful because there is so much overlap across articles."
   ]
  },
  {
   "cell_type": "code",
   "execution_count": 166,
   "metadata": {
    "collapsed": false
   },
   "outputs": [],
   "source": [
    "#editors_wpg = nx.bipartite.weighted_projected_graph(election_g.to_undirected(),user_nodelist.index)\n",
    "article_wpg = nx.bipartite.weighted_projected_graph(election_g.to_undirected(),page_nodelist.index)\n",
    "\n",
    "#nx.write_gexf(editors_wpg,'editors_wpg.gexf')\n",
    "nx.write_gexf(article_wpg,'article_wpg.gexf')"
   ]
  },
  {
   "cell_type": "markdown",
   "metadata": {},
   "source": [
    "### Basic analysis"
   ]
  },
  {
   "cell_type": "markdown",
   "metadata": {},
   "source": [
    "Now let's perform some basic network analyses on this gigantic graph we've created. An extremely easy and important metric to compute is the degree centrality of nodes in the network: how well-connected a node is based on the number of edges it has to other nodes. We use the directed nature of the edges to distinguish between articles (which receive links in) and editors (which send links out) to compute the in- and out-degree centralities respectively with the `nx.in_degree_centrality` and `nx.out_degree_centrality` functions. These functions return a *normalized* degree centrality, where the values aren't the integer count of the number of connected edges, but rather the fraction of other nodes connected to which it's connected. The values are recorded in a dictionary keyed by the node ID (article title or user name), which are saved as `g_idc` and `g_odc`."
   ]
  },
  {
   "cell_type": "code",
   "execution_count": 48,
   "metadata": {
    "collapsed": false
   },
   "outputs": [],
   "source": [
    "# Network size to de-normalize network size\n",
    "network_size = election_g.number_of_nodes() - 1\n",
    "\n",
    "# In-degree centrality captures how many editors are on an article\n",
    "g_idc = {k:v for k,v in nx.in_degree_centrality(election_g).iteritems()}\n",
    "\n",
    "# Out-degree centrality captures how many articles users contributed to\n",
    "g_odc = {k:v for k,v in nx.out_degree_centrality(election_g).iteritems()}"
   ]
  },
  {
   "cell_type": "code",
   "execution_count": 49,
   "metadata": {
    "collapsed": false
   },
   "outputs": [
    {
     "data": {
      "text/plain": [
       "Republican Party (United States)                     2426.0\n",
       "Donald Trump                                         2228.0\n",
       "Hillary Clinton                                      2191.0\n",
       "Democratic Party (United States)                     2092.0\n",
       "President of the United States                       2002.0\n",
       "United States presidential election debates, 2016    1937.0\n",
       "United States presidential election, 2016            1937.0\n",
       "United States presidential election, 2012            1359.0\n",
       "Rick Santorum                                        1309.0\n",
       "Rick Perry                                           1063.0\n",
       "dtype: float64"
      ]
     },
     "execution_count": 49,
     "metadata": {},
     "output_type": "execute_result"
    }
   ],
   "source": [
    "(pd.Series(g_idc)*network_size).sort_values(ascending=False).head(10)"
   ]
  },
  {
   "cell_type": "code",
   "execution_count": 50,
   "metadata": {
    "collapsed": false,
    "slideshow": {
     "slide_type": "-"
    }
   },
   "outputs": [
    {
     "data": {
      "text/plain": [
       "AnomieBOT              120.0\n",
       "JayJasper              106.0\n",
       "Yobot                  101.0\n",
       "BG19bot                 97.0\n",
       "ClueBot NG              93.0\n",
       "RjwilmsiBot             72.0\n",
       "Spartan7W               70.0\n",
       "BattyBot                64.0\n",
       "Bender235               64.0\n",
       "All Hallow's Wraith     63.0\n",
       "dtype: float64"
      ]
     },
     "execution_count": 50,
     "metadata": {},
     "output_type": "execute_result"
    }
   ],
   "source": [
    "(pd.Series(g_odc)*network_size).sort_values(ascending=False).head(10)"
   ]
  },
  {
   "cell_type": "code",
   "execution_count": 51,
   "metadata": {
    "collapsed": false,
    "slideshow": {
     "slide_type": "-"
    }
   },
   "outputs": [
    {
     "data": {
      "text/plain": [
       "<matplotlib.text.Text at 0x1701a710>"
      ]
     },
     "execution_count": 51,
     "metadata": {},
     "output_type": "execute_result"
    },
    {
     "data": {
      "image/png": "[encoded data removed]",
      "text/plain": [
       "<matplotlib.figure.Figure at 0x14341160>"
      ]
     },
     "metadata": {},
     "output_type": "display_data"
    }
   ],
   "source": [
    "_s = (pd.Series(g_odc)*network_size)\n",
    "_s = _s[_s>0]\n",
    "ax = _s.value_counts().reset_index().plot(x='index',y=0,kind='scatter',logy=True,logx=True)\n",
    "ax.set_ylabel('Number of editors')\n",
    "ax.set_xlabel('Articles edited')"
   ]
  },
  {
   "cell_type": "markdown",
   "metadata": {},
   "source": [
    "We can also compute the distribution of edge weights in the graph, which refers to the number of times an editor revised an article."
   ]
  },
  {
   "cell_type": "code",
   "execution_count": 52,
   "metadata": {
    "collapsed": false
   },
   "outputs": [
    {
     "data": {
      "text/plain": [
       "user             page                                                              \n",
       "Wasted Time R    Hillary Clinton                                                       2357\n",
       "Settler          Democratic Party (United States)                                       703\n",
       "Ehlla            Endorsements for the Republican Party presidential primaries, 2016     700\n",
       "LukeTH           Hillary Clinton                                                        656\n",
       "Cwobeel          Carly Fiorina                                                          622\n",
       "Ihardlythinkso   Donald Trump                                                           558\n",
       "ObieGrad         United States presidential election, 2016                              548\n",
       "                 United States presidential election debates, 2016                      548\n",
       "Rjensen          Republican Party (United States)                                       530\n",
       "Blondeguynative  Democratic Party (United States)                                       482\n",
       "Name: weight, dtype: int64"
      ]
     },
     "execution_count": 52,
     "metadata": {},
     "output_type": "execute_result"
    }
   ],
   "source": [
    "revision_edgelist['weight'].sort_values(ascending=False).head(10)"
   ]
  },
  {
   "cell_type": "code",
   "execution_count": 53,
   "metadata": {
    "collapsed": false
   },
   "outputs": [
    {
     "data": {
      "text/plain": [
       "<matplotlib.text.Text at 0x26751f28>"
      ]
     },
     "execution_count": 53,
     "metadata": {},
     "output_type": "execute_result"
    },
    {
     "data": {
      "image/png": "[encoded data removed]",
      "text/plain": [
       "<matplotlib.figure.Figure at 0xdc6be80>"
      ]
     },
     "metadata": {},
     "output_type": "display_data"
    }
   ],
   "source": [
    "weights = revision_edgelist['weight']\n",
    "ax = weights.value_counts().reset_index().plot(x='index',y='weight',kind='scatter',logy=True,logx=True)\n",
    "ax.set_ylabel('Number of edges')\n",
    "ax.set_xlabel('Revisions made')"
   ]
  },
  {
   "cell_type": "markdown",
   "metadata": {},
   "source": [
    "What articles share the most editors in common?"
   ]
  },
  {
   "cell_type": "code",
   "execution_count": 54,
   "metadata": {
    "collapsed": false
   },
   "outputs": [
    {
     "data": {
      "text/plain": [
       "Mike Huckabee presidential campaign, 2016                                  0.054858\n",
       "Rick Santorum presidential campaign, 2016                                  0.050784\n",
       "Carly Fiorina presidential campaign, 2016                                  0.050466\n",
       "Jeb Bush presidential campaign, 2016                                       0.050252\n",
       "Chris Christie presidential campaign, 2016                                 0.049923\n",
       "Marco Rubio presidential campaign, 2016                                    0.048035\n",
       "Ben Carson presidential campaign, 2016                                     0.047580\n",
       "Ted Cruz presidential campaign, 2016                                       0.046901\n",
       "Green Party presidential candidates, 2016                                  0.045939\n",
       "United States third party and independent presidential candidates, 2016    0.045939\n",
       "dtype: float64"
      ]
     },
     "execution_count": 54,
     "metadata": {},
     "output_type": "execute_result"
    }
   ],
   "source": [
    "article_clustering = nx.bipartite.latapy_clustering(election_g.to_undirected(),page_nodelist.index,'dot')\n",
    "article_clustering_s = pd.Series(article_clustering).sort_values(ascending=False)\n",
    "article_clustering_s.head(10)"
   ]
  },
  {
   "cell_type": "markdown",
   "metadata": {},
   "source": [
    "# Get the hyperlinks from each article"
   ]
  },
  {
   "cell_type": "markdown",
   "metadata": {},
   "source": [
    "The problem with the hyperlink parsing approach we used before was that many (probably all) the articles use the same template at the bottom --- which means this template makes all these articles link to each other. Plus each article has more templates that inflate the number of hyperlinks beyond what's in the text. If the hyperlinks in the text are what we're after, we're going to have to parse them out using code like we used to get the links from the first version of the Hillary Clinton article. Instead this time, we'll just pass the most recent version of the article (after checking to make sure the most recent version doesn't differ dramatically from the article's recent history)."
   ]
  },
  {
   "cell_type": "markdown",
   "metadata": {},
   "source": [
    "The `idxmax` function applied to a groupby object is really powerful, it will tell you the index where the greatest value for a given variable occurs. In this case, we want the most recent revision, so passing `idxmax` to the max timestamp will return the index in the `multirevision_df` DataFrame where it occurs. THen we can just subset that DataFrame by those index values and return the relevant columns."
   ]
  },
  {
   "cell_type": "code",
   "execution_count": 57,
   "metadata": {
    "collapsed": false
   },
   "outputs": [
    {
     "data": {
      "text/html": [
       "<div>\n",
       "<table border=\"1\" class=\"dataframe\">\n",
       "  <thead>\n",
       "    <tr style=\"text-align: right;\">\n",
       "      <th></th>\n",
       "      <th>page</th>\n",
       "      <th>revid</th>\n",
       "    </tr>\n",
       "  </thead>\n",
       "  <tbody>\n",
       "    <tr>\n",
       "      <th>230883</th>\n",
       "      <td>2016 Democratic National Convention</td>\n",
       "      <td>709778979</td>\n",
       "    </tr>\n",
       "    <tr>\n",
       "      <th>75333</th>\n",
       "      <td>2016 Green National Convention</td>\n",
       "      <td>709105441</td>\n",
       "    </tr>\n",
       "    <tr>\n",
       "      <th>169252</th>\n",
       "      <td>2016 Libertarian National Convention</td>\n",
       "      <td>709105349</td>\n",
       "    </tr>\n",
       "    <tr>\n",
       "      <th>144098</th>\n",
       "      <td>2016 Republican National Convention</td>\n",
       "      <td>710395488</td>\n",
       "    </tr>\n",
       "    <tr>\n",
       "      <th>210205</th>\n",
       "      <td>Alyson Kennedy</td>\n",
       "      <td>706554480</td>\n",
       "    </tr>\n",
       "  </tbody>\n",
       "</table>\n",
       "</div>"
      ],
      "text/plain": [
       "                                        page      revid\n",
       "230883   2016 Democratic National Convention  709778979\n",
       "75333         2016 Green National Convention  709105441\n",
       "169252  2016 Libertarian National Convention  709105349\n",
       "144098   2016 Republican National Convention  710395488\n",
       "210205                        Alyson Kennedy  706554480"
      ]
     },
     "execution_count": 57,
     "metadata": {},
     "output_type": "execute_result"
    }
   ],
   "source": [
    "max_ix = multirevision_df.groupby(['page'])['timestamp'].idxmax()\n",
    "most_recent_revids = multirevision_df.loc[max_ix,['page','revid']]\n",
    "most_recent_revids.head()"
   ]
  },
  {
   "cell_type": "markdown",
   "metadata": {},
   "source": [
    "### Extracting links from parsed wiki-text"
   ]
  },
  {
   "cell_type": "markdown",
   "metadata": {},
   "source": [
    "You don't need to screen-scrape or use regex to extract the links from a Wikipedia article. We'll use the API to get the parsed text back and then use the wonderful BeautifulSoup library to extract links from the page. We'll adapt the code from extracting links from the old Hillary Clinton article, but instead ask the API to return the parsed HTML of the page for a given revision of an article. We can pass this text to BeautifulSoup, we'll remove tags enclosing tables and divs that define the problematic template we want to ignore, and then extract all the links from the remaining main body of text.\n",
    "\n",
    "Here we query the API to get the parsed HTML for the \"Hillary Clinton\" article and show the first 1000 characters of the string."
   ]
  },
  {
   "cell_type": "code",
   "execution_count": 70,
   "metadata": {
    "collapsed": false
   },
   "outputs": [
    {
     "data": {
      "text/plain": [
       "u'<table class=\"infobox vcard\" style=\"width:22em\">\\n<tr>\\n<th colspan=\"2\" style=\"text-align:center;font-size:125%;font-weight:bold;font-size: 130%;\"><span class=\"fn\">Hillary Rodham Clinton</span></th>\\n</tr>\\n<tr>\\n<td colspan=\"2\" style=\"text-align:center\"><a href=\"/wiki/File:Hillary_Clinton_official_Secretary_of_State_portrait_crop.jpg\" class=\"image\"><img alt=\"Hillary Clinton official Secretary of State portrait crop.jpg\" src=\"//upload.wikimedia.org/wikipedia/commons/thumb/2/27/Hillary_Clinton_official_Secretary_of_State_portrait_crop.jpg/220px-Hillary_Clinton_official_Secretary_of_State_portrait_crop.jpg\" width=\"220\" height=\"275\" srcset=\"//upload.wikimedia.org/wikipedia/commons/thumb/2/27/Hillary_Clinton_official_Secretary_of_State_portrait_crop.jpg/330px-Hillary_Clinton_official_Secretary_of_State_portrait_crop.jpg 1.5x, //upload.wikimedia.org/wikipedia/commons/thumb/2/27/Hillary_Clinton_official_Secretary_of_State_portrait_crop.jpg/440px-Hillary_Clinton_official_Secretary_of_State_portrai'"
      ]
     },
     "execution_count": 70,
     "metadata": {},
     "output_type": "execute_result"
    }
   ],
   "source": [
    "params = {'action': 'parse',\n",
    "          'redirects':True,\n",
    "          'prop': 'text',\n",
    "          'page': 'Hillary Clinton'}\n",
    "\n",
    "text = list(wt.api.APIRequest(wiki=enwp,data=params).queryGen())[0]['parse']['text']['*']\n",
    "text[:1000]"
   ]
  },
  {
   "cell_type": "markdown",
   "metadata": {},
   "source": [
    "We can soup-ify this HTML string into a parseable object, remove content enclosed by tags we don't like that define tables and divs, then search the remaining content for links and extract them."
   ]
  },
  {
   "cell_type": "code",
   "execution_count": 73,
   "metadata": {
    "collapsed": false
   },
   "outputs": [
    {
     "name": "stdout",
     "output_type": "stream",
     "text": [
      "There are 543 links in the body of the Hillary Clinton article.\n"
     ]
    },
    {
     "data": {
      "text/plain": [
       "['Help:IPA for English',\n",
       " 'Hillary Clinton presidential campaign, 2016',\n",
       " '2016 Democratic National Convention',\n",
       " 'President of the United States',\n",
       " 'United States',\n",
       " 'United States presidential election, 2016',\n",
       " 'List of Secretaries of State of the United States',\n",
       " 'United States Secretary of State',\n",
       " 'United States Senate',\n",
       " 'New York']"
      ]
     },
     "execution_count": 73,
     "metadata": {},
     "output_type": "execute_result"
    }
   ],
   "source": [
    "# Soup-ify the HTML string into a structured XML object\n",
    "soup = BeautifulSoup(text,'lxml')\n",
    "\n",
    "# Ignore links inside of tables and divs\n",
    "for bad_tag in soup.find_all(['table','div']):\n",
    "    bad_tag.extract()\n",
    "\n",
    "# Create a container to hold the links we extract from the text\n",
    "link_list = list()\n",
    "\n",
    "# Find all the 'a' tags\n",
    "for a in soup.find_all('a'):\n",
    "    if 'wiki' in a['href']: # Make sure the link is to a wiki document\n",
    "        try:\n",
    "            link_list.append(a['title']) # Try to get the title\n",
    "        except KeyError:\n",
    "            pass # Otherwise skip\n",
    "\n",
    "print \"There are {0} links in the body of the Hillary Clinton article.\".format(len(link_list))\n",
    "link_list[:10]"
   ]
  },
  {
   "cell_type": "markdown",
   "metadata": {},
   "source": [
    "We'll create a function to automate this process."
   ]
  },
  {
   "cell_type": "code",
   "execution_count": 69,
   "metadata": {
    "collapsed": true
   },
   "outputs": [],
   "source": [
    "def parse_links_from_article_text(revid):\n",
    "    params = {'action': 'parse',\n",
    "              'redirects':True,\n",
    "              'prop': 'text',\n",
    "              'oldid': '{0}'.format(revid)}\n",
    "    text = list(wt.api.APIRequest(wiki=enwp,data=params).queryGen())[0]['parse']['text']['*']\n",
    "    \n",
    "    soup = BeautifulSoup(text,'lxml')\n",
    "    \n",
    "    for bad_tag in soup.find_all(['table','div']):\n",
    "        bad_tag.extract()\n",
    "    \n",
    "    link_list = list()\n",
    "    \n",
    "    for a in soup.find_all('a'):\n",
    "        if 'wiki' in a['href']: # Make sure the link is to a wiki document\n",
    "            try:\n",
    "                link_list.append(a['title']) # Try to get the title\n",
    "            except KeyError:\n",
    "                pass # Otherwise skip\n",
    "    \n",
    "    return link_list"
   ]
  },
  {
   "cell_type": "markdown",
   "metadata": {},
   "source": [
    "Now go through each article's most recent revision, parse out the links using the function above, and store it in `article_outlinks_dict` where they keys are article names and the values are the lists of links on the most recent version of that article. This will take 3-5 minutes to pull all the data. Save it to JSON to avoid having to do it again."
   ]
  },
  {
   "cell_type": "raw",
   "metadata": {},
   "source": [
    "article_link_dict = {}\n",
    "\n",
    "for [article,revid] in most_recent_revids.values:\n",
    "    try:\n",
    "        article_link_dict[article] = parse_links_from_article_text(revid)\n",
    "    except:\n",
    "        print article\n",
    "        pass\n",
    "    \n",
    "with open('election_article_link_dict.json','wb') as f:\n",
    "    json.dump(article_link_dict,f)"
   ]
  },
  {
   "cell_type": "markdown",
   "metadata": {},
   "source": [
    "I've commented that out so we don't accidentally run it. Instead, we'll just load from disk to save some time in the future."
   ]
  },
  {
   "cell_type": "code",
   "execution_count": 60,
   "metadata": {
    "collapsed": true
   },
   "outputs": [],
   "source": [
    "with open('election_article_link_dict.json','rb') as f:\n",
    "    article_link_dict = json.load(f)"
   ]
  },
  {
   "cell_type": "markdown",
   "metadata": {},
   "source": [
    "### Make hyperlink network"
   ]
  },
  {
   "cell_type": "markdown",
   "metadata": {},
   "source": [
    "We'll iterate over the `article_outlinks_dictionary` and construct a hyperlink network of how each seed article links to other concepts throughout Wikipedia."
   ]
  },
  {
   "cell_type": "code",
   "execution_count": 61,
   "metadata": {
    "collapsed": false
   },
   "outputs": [
    {
     "name": "stdout",
     "output_type": "stream",
     "text": [
      "There are 9363 nodes and 17141 edges in the network.\n"
     ]
    }
   ],
   "source": [
    "election_hyperlink_g = nx.DiGraph()\n",
    "\n",
    "for seed_article,outlink_list in article_link_dict.iteritems():\n",
    "    if seed_article != 'Endorsements for the Republican Party presidential primaries, 2016':\n",
    "        for outlink in outlink_list:\n",
    "            if seed_article != outlink:\n",
    "                if election_hyperlink_g.has_edge(seed_article,outlink):\n",
    "                    election_hyperlink_g[seed_article][outlink]['weight'] += 1\n",
    "                else:\n",
    "                    election_hyperlink_g.add_edge(seed_article,outlink,weight=1)\n",
    "        \n",
    "print \"There are {0} nodes and {1} edges in the network.\".format(election_hyperlink_g.number_of_nodes(),election_hyperlink_g.number_of_edges())\n",
    "\n",
    "nx.write_gexf(election_hyperlink_g,'election_hyperlink_g.gexf')"
   ]
  },
  {
   "cell_type": "markdown",
   "metadata": {},
   "source": [
    "What are the top nodes in the network?"
   ]
  },
  {
   "cell_type": "code",
   "execution_count": 62,
   "metadata": {
    "collapsed": true
   },
   "outputs": [],
   "source": [
    "# Network size to de-normalize network size\n",
    "hyperlink_network_size = election_hyperlink_g.number_of_nodes() - 1\n",
    "\n",
    "# In-degree centrality captures how many editors are on an article\n",
    "hyperlink_g_idc = {k:v for k,v in nx.in_degree_centrality(election_hyperlink_g).iteritems()}\n",
    "\n",
    "# Out-degree centrality captures how many articles users contributed to\n",
    "hyperlink_g_odc = {k:v for k,v in nx.out_degree_centrality(election_hyperlink_g).iteritems()}\n",
    "\n",
    "# Page-rank\n",
    "hyperlink_pagerank = nx.pagerank(election_hyperlink_g)"
   ]
  },
  {
   "cell_type": "markdown",
   "metadata": {},
   "source": [
    "The in-degree centrality captures the nodes that are pointed to the most by articles in the network."
   ]
  },
  {
   "cell_type": "code",
   "execution_count": 63,
   "metadata": {
    "collapsed": false
   },
   "outputs": [
    {
     "data": {
      "text/plain": [
       "United States presidential election, 2016        94.0\n",
       "President of the United States                   73.0\n",
       "Republican Party (United States)                 57.0\n",
       "Democratic Party (United States)                 48.0\n",
       "Barack Obama                                     48.0\n",
       "United States Senate                             47.0\n",
       "United States presidential election, 2012        46.0\n",
       "Wikipedia:Citation needed                        44.0\n",
       "Donald Trump                                     43.0\n",
       "Republican Party presidential primaries, 2016    42.0\n",
       "dtype: float64"
      ]
     },
     "execution_count": 63,
     "metadata": {},
     "output_type": "execute_result"
    }
   ],
   "source": [
    "(pd.Series(hyperlink_g_idc)*hyperlink_network_size).sort_values(ascending=False).head(10)"
   ]
  },
  {
   "cell_type": "markdown",
   "metadata": {},
   "source": [
    "The out-degree centrality captures the nodes that point to the most other articles in the network."
   ]
  },
  {
   "cell_type": "code",
   "execution_count": 64,
   "metadata": {
    "collapsed": false
   },
   "outputs": [
    {
     "data": {
      "text/plain": [
       "Democratic Party (United States)            628.0\n",
       "Hillary Clinton                             513.0\n",
       "Donald Trump                                485.0\n",
       "Independent politician                      460.0\n",
       "Political positions of Jeb Bush             397.0\n",
       "Carly Fiorina                               358.0\n",
       "Republican Party (United States)            351.0\n",
       "Donald Trump presidential campaign, 2016    350.0\n",
       "Bernie Sanders                              330.0\n",
       "John Kasich                                 316.0\n",
       "dtype: float64"
      ]
     },
     "execution_count": 64,
     "metadata": {},
     "output_type": "execute_result"
    }
   ],
   "source": [
    "(pd.Series(hyperlink_g_odc)*hyperlink_network_size).sort_values(ascending=False).head(10)"
   ]
  },
  {
   "cell_type": "markdown",
   "metadata": {},
   "source": [
    "The PageRank algorithm was an early version for recursively determining the influence of documents in an information network. A node has high PageRank centrality if it is referenced by other nodes with high PageRank centrality."
   ]
  },
  {
   "cell_type": "code",
   "execution_count": 65,
   "metadata": {
    "collapsed": false
   },
   "outputs": [
    {
     "data": {
      "text/plain": [
       "United States presidential election, 2016        3.645051\n",
       "President of the United States                   2.481603\n",
       "Republican Party presidential primaries, 2016    2.030319\n",
       "United States Senate                             1.887122\n",
       "Democratic Party (United States)                 1.884065\n",
       "Wikipedia:Citation needed                        1.874231\n",
       "United States                                    1.833102\n",
       "Democratic Party presidential primaries, 2016    1.769972\n",
       "United States presidential election, 2012        1.767763\n",
       "Donald Trump                                     1.731317\n",
       "dtype: float64"
      ]
     },
     "execution_count": 65,
     "metadata": {},
     "output_type": "execute_result"
    }
   ],
   "source": [
    "(pd.Series(hyperlink_pagerank)*hyperlink_network_size).sort_values(ascending=False).head(10)"
   ]
  },
  {
   "cell_type": "markdown",
   "metadata": {},
   "source": [
    "Compute the betweenness centrality. A node has a high betweenness centrality lies along many shortest paths between other nodes. We're only going to be able to compute betweenness on a subset of the network since there are so many nodes in the network. We'll also account for the weight of the edges."
   ]
  },
  {
   "cell_type": "code",
   "execution_count": 99,
   "metadata": {
    "collapsed": false
   },
   "outputs": [
    {
     "data": {
      "text/plain": [
       "United States presidential election, 2016                                  9639.145621\n",
       "United States presidential election, 2016 timeline                         1702.604717\n",
       "Republican Party presidential candidates, 2016                             1289.291628\n",
       "Donald Trump                                                               1187.171986\n",
       "President of the United States                                             1085.033109\n",
       "Democratic Party presidential primaries, 2016                               882.440373\n",
       "Republican Party (United States)                                            845.401338\n",
       "Democratic Party presidential candidates, 2016                              766.725819\n",
       "Democratic Party (United States)                                            744.219652\n",
       "United States third party and independent presidential candidates, 2016     671.097707\n",
       "dtype: float64"
      ]
     },
     "execution_count": 99,
     "metadata": {},
     "output_type": "execute_result"
    }
   ],
   "source": [
    "pd.Series(nx.betweenness_centrality_subset(election_hyperlink_g,\n",
    "                                           page_nodelist.index,page_nodelist.index,\n",
    "                                           weight='weight')).sort_values(ascending=False).head(10)"
   ]
  },
  {
   "cell_type": "markdown",
   "metadata": {},
   "source": [
    "One advantage of parsing the wiki-text is we can capture how many times an article links to another article. We captured this as an edge weight in the network above if the edge was already in the network by incrementing the edge weight up by one. Extract these edge weights and make it into a DataFrame and sort it by the edges that are repeated the most times."
   ]
  },
  {
   "cell_type": "code",
   "execution_count": 66,
   "metadata": {
    "collapsed": false
   },
   "outputs": [
    {
     "data": {
      "text/html": [
       "<div>\n",
       "<table border=\"1\" class=\"dataframe\">\n",
       "  <thead>\n",
       "    <tr style=\"text-align: right;\">\n",
       "      <th></th>\n",
       "      <th>article_from</th>\n",
       "      <th>article_to</th>\n",
       "      <th>weight</th>\n",
       "    </tr>\n",
       "  </thead>\n",
       "  <tbody>\n",
       "    <tr>\n",
       "      <th>9116</th>\n",
       "      <td>Statewide opinion polling for the Democratic P...</td>\n",
       "      <td>Superdelegate</td>\n",
       "      <td>50</td>\n",
       "    </tr>\n",
       "    <tr>\n",
       "      <th>10375</th>\n",
       "      <td>Statewide opinion polling for the Republican P...</td>\n",
       "      <td>Donald Trump</td>\n",
       "      <td>19</td>\n",
       "    </tr>\n",
       "    <tr>\n",
       "      <th>1688</th>\n",
       "      <td>Democratic Party (United States)</td>\n",
       "      <td>Barack Obama</td>\n",
       "      <td>11</td>\n",
       "    </tr>\n",
       "    <tr>\n",
       "      <th>16600</th>\n",
       "      <td>Mike Huckabee</td>\n",
       "      <td>John McCain</td>\n",
       "      <td>10</td>\n",
       "    </tr>\n",
       "    <tr>\n",
       "      <th>10513</th>\n",
       "      <td>Libertarian Party (United States)</td>\n",
       "      <td>Wikipedia:Citation needed</td>\n",
       "      <td>10</td>\n",
       "    </tr>\n",
       "    <tr>\n",
       "      <th>16331</th>\n",
       "      <td>Ben Carson</td>\n",
       "      <td>International Standard Book Number</td>\n",
       "      <td>10</td>\n",
       "    </tr>\n",
       "    <tr>\n",
       "      <th>3611</th>\n",
       "      <td>Republican Party presidential debates and foru...</td>\n",
       "      <td>Donald Trump</td>\n",
       "      <td>8</td>\n",
       "    </tr>\n",
       "    <tr>\n",
       "      <th>1819</th>\n",
       "      <td>Democratic Party (United States)</td>\n",
       "      <td>Bill Clinton</td>\n",
       "      <td>8</td>\n",
       "    </tr>\n",
       "    <tr>\n",
       "      <th>16685</th>\n",
       "      <td>Mike Huckabee</td>\n",
       "      <td>Mitt Romney</td>\n",
       "      <td>7</td>\n",
       "    </tr>\n",
       "    <tr>\n",
       "      <th>5478</th>\n",
       "      <td>Donald Trump</td>\n",
       "      <td>Trump Plaza Hotel and Casino</td>\n",
       "      <td>7</td>\n",
       "    </tr>\n",
       "    <tr>\n",
       "      <th>5477</th>\n",
       "      <td>Donald Trump</td>\n",
       "      <td>Trump Taj Mahal</td>\n",
       "      <td>7</td>\n",
       "    </tr>\n",
       "    <tr>\n",
       "      <th>3652</th>\n",
       "      <td>Republican Party presidential debates and foru...</td>\n",
       "      <td>John Kasich</td>\n",
       "      <td>7</td>\n",
       "    </tr>\n",
       "    <tr>\n",
       "      <th>869</th>\n",
       "      <td>Vice President of the United States</td>\n",
       "      <td>Richard Nixon</td>\n",
       "      <td>7</td>\n",
       "    </tr>\n",
       "    <tr>\n",
       "      <th>5230</th>\n",
       "      <td>Democratic Party presidential debates and foru...</td>\n",
       "      <td>CNN</td>\n",
       "      <td>7</td>\n",
       "    </tr>\n",
       "    <tr>\n",
       "      <th>10347</th>\n",
       "      <td>Statewide opinion polling for the Republican P...</td>\n",
       "      <td>Ted Cruz</td>\n",
       "      <td>7</td>\n",
       "    </tr>\n",
       "    <tr>\n",
       "      <th>3559</th>\n",
       "      <td>Republican Party presidential debates and foru...</td>\n",
       "      <td>Jeb Bush</td>\n",
       "      <td>6</td>\n",
       "    </tr>\n",
       "    <tr>\n",
       "      <th>17073</th>\n",
       "      <td>Socialist Workers Party (United States)</td>\n",
       "      <td>James Harris (politician)</td>\n",
       "      <td>6</td>\n",
       "    </tr>\n",
       "    <tr>\n",
       "      <th>1717</th>\n",
       "      <td>Democratic Party (United States)</td>\n",
       "      <td>Al Gore</td>\n",
       "      <td>6</td>\n",
       "    </tr>\n",
       "    <tr>\n",
       "      <th>3612</th>\n",
       "      <td>Republican Party presidential debates and foru...</td>\n",
       "      <td>Marco Rubio</td>\n",
       "      <td>6</td>\n",
       "    </tr>\n",
       "    <tr>\n",
       "      <th>1380</th>\n",
       "      <td>Democratic Party (United States)</td>\n",
       "      <td>Universal health care</td>\n",
       "      <td>6</td>\n",
       "    </tr>\n",
       "  </tbody>\n",
       "</table>\n",
       "</div>"
      ],
      "text/plain": [
       "                                            article_from  \\\n",
       "9116   Statewide opinion polling for the Democratic P...   \n",
       "10375  Statewide opinion polling for the Republican P...   \n",
       "1688                    Democratic Party (United States)   \n",
       "16600                                      Mike Huckabee   \n",
       "10513                  Libertarian Party (United States)   \n",
       "16331                                         Ben Carson   \n",
       "3611   Republican Party presidential debates and foru...   \n",
       "1819                    Democratic Party (United States)   \n",
       "16685                                      Mike Huckabee   \n",
       "5478                                        Donald Trump   \n",
       "5477                                        Donald Trump   \n",
       "3652   Republican Party presidential debates and foru...   \n",
       "869                  Vice President of the United States   \n",
       "5230   Democratic Party presidential debates and foru...   \n",
       "10347  Statewide opinion polling for the Republican P...   \n",
       "3559   Republican Party presidential debates and foru...   \n",
       "17073            Socialist Workers Party (United States)   \n",
       "1717                    Democratic Party (United States)   \n",
       "3612   Republican Party presidential debates and foru...   \n",
       "1380                    Democratic Party (United States)   \n",
       "\n",
       "                               article_to  weight  \n",
       "9116                        Superdelegate      50  \n",
       "10375                        Donald Trump      19  \n",
       "1688                         Barack Obama      11  \n",
       "16600                         John McCain      10  \n",
       "10513           Wikipedia:Citation needed      10  \n",
       "16331  International Standard Book Number      10  \n",
       "3611                         Donald Trump       8  \n",
       "1819                         Bill Clinton       8  \n",
       "16685                         Mitt Romney       7  \n",
       "5478         Trump Plaza Hotel and Casino       7  \n",
       "5477                      Trump Taj Mahal       7  \n",
       "3652                          John Kasich       7  \n",
       "869                         Richard Nixon       7  \n",
       "5230                                  CNN       7  \n",
       "10347                            Ted Cruz       7  \n",
       "3559                             Jeb Bush       6  \n",
       "17073           James Harris (politician)       6  \n",
       "1717                              Al Gore       6  \n",
       "3612                          Marco Rubio       6  \n",
       "1380                Universal health care       6  "
      ]
     },
     "execution_count": 66,
     "metadata": {},
     "output_type": "execute_result"
    }
   ],
   "source": [
    "edge_weight_df = pd.DataFrame([{'article_from':article1,'article_to':article2,'weight':d['weight']} for article1, article2, d in \n",
    "                              election_hyperlink_g.edges(data=True)])\n",
    "edge_weight_df.sort_values('weight',ascending=False).head(20)"
   ]
  },
  {
   "cell_type": "markdown",
   "metadata": {},
   "source": [
    "Compute the clustering over the set of seed nodes."
   ]
  },
  {
   "cell_type": "code",
   "execution_count": 95,
   "metadata": {
    "collapsed": false
   },
   "outputs": [
    {
     "data": {
      "text/plain": [
       "Nationwide opinion polling for the Democratic Party 2016 presidential primaries      0.621212\n",
       "Endorsements for the Democratic Party presidential primaries, 2016                   0.527778\n",
       "Nationwide opinion polling for the United States presidential election, 2016         0.500000\n",
       "Nationwide opinion polling for the Republican Party 2016 presidential primaries      0.450980\n",
       "Results of the Democratic Party presidential primaries, 2016                         0.428571\n",
       "2016 Green National Convention                                                       0.428571\n",
       "Political positions of the Democratic Party presidential primary candidates, 2016    0.333333\n",
       "Rick Santorum presidential campaign, 2016                                            0.300000\n",
       "Gary Johnson presidential campaign, 2016                                             0.257576\n",
       "Lindsey Graham presidential campaign, 2016                                           0.246753\n",
       "dtype: float64"
      ]
     },
     "execution_count": 95,
     "metadata": {},
     "output_type": "execute_result"
    }
   ],
   "source": [
    "pd.Series(nx.clustering(election_hyperlink_g.to_undirected(),page_nodelist.index)).sort_values(ascending=False).head(10)"
   ]
  },
  {
   "cell_type": "markdown",
   "metadata": {
    "collapsed": true
   },
   "source": [
    "Compute reciprocality. This actually isn't the \"true\" reciprocation fraction in the hyperlink graph, do you know why?"
   ]
  },
  {
   "cell_type": "code",
   "execution_count": 88,
   "metadata": {
    "collapsed": false
   },
   "outputs": [
    {
     "name": "stdout",
     "output_type": "stream",
     "text": [
      "There are 368 reciprocated edges out of 17141 edges in the network, giving a reciprocation fraction of 2.1%.\n"
     ]
    }
   ],
   "source": [
    "election_hyperlink_reciprocal_edges = list()\n",
    "for (i,j) in election_hyperlink_g.edges():\n",
    "    if election_hyperlink_g.has_edge(j,i) and (i,j) not in election_hyperlink_reciprocal_edges:\n",
    "        election_hyperlink_reciprocal_edges.append((i,j))\n",
    "        \n",
    "reciprocation_fraction = round(float(len(election_hyperlink_reciprocal_edges))/election_hyperlink_g.number_of_edges(),3)\n",
    "num_reciprocal_edges = len(election_hyperlink_reciprocal_edges)\n",
    "edge_count = election_hyperlink_g.number_of_edges()\n",
    "\n",
    "print \"There are {0} reciprocated edges out of {1} edges in the network, giving a reciprocation fraction of {2:.1%}.\".format(num_reciprocal_edges,edge_count,reciprocation_fraction)"
   ]
  },
  {
   "cell_type": "code",
   "execution_count": null,
   "metadata": {
    "collapsed": true
   },
   "outputs": [],
   "source": []
  }
 ],
 "metadata": {
  "kernelspec": {
   "display_name": "Python 2",
   "language": "python",
   "name": "python2"
  },
  "language_info": {
   "codemirror_mode": {
    "name": "ipython",
    "version": 2
   },
   "file_extension": ".py",
   "mimetype": "text/x-python",
   "name": "python",
   "nbconvert_exporter": "python",
   "pygments_lexer": "ipython2",
   "version": "2.7.11"
  }
 },
 "nbformat": 4,
 "nbformat_minor": 0
}
